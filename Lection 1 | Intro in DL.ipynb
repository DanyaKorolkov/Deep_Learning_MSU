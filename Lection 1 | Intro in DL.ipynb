{
  "cells": [
    {
      "cell_type": "markdown",
      "metadata": {
        "id": "8-gdl8Ro63rf"
      },
      "source": [
        "## Введение в нейронные сети\n",
        "\n",
        "##### Автор: [Радослав Нейчев](https://www.linkedin.com/in/radoslav-neychev/), @neychev"
      ]
    },
    {
      "cell_type": "markdown",
      "metadata": {
        "id": "ZdxEkwtC63ri"
      },
      "source": [
        "#### План занятия:\n",
        "1. История развития нейронных сетей\n",
        "2. Базовые понятия при работе с нейронными сетями\n",
        "3. Интерактивный пример работы нейронной сети\n",
        "4. Построение нейронной сети для (почти) реальной задачи и ее проверка на реальных данных"
      ]
    },
    {
      "cell_type": "markdown",
      "metadata": {
        "id": "u1LsoqXm63ri"
      },
      "source": [
        "К началу 2021 года нейронные сети являются стандартом во множестве прикладных задач. Особенно показательны результаты в области работы с тектом, изображениями, звуком, видео и др. Все они отличаются тем, что данные обладают некоторой _сложной структурой_.\n",
        "\n",
        "Во многом нейронные сети обязаны успеху своей способности строить информативные признаковые описания в автоматическом режиме, учитывая при этом структуру данных. Но перед непосредственным введением основных понятий, рассмотрим историю становления нейронных сетей."
      ]
    },
    {
      "cell_type": "markdown",
      "metadata": {
        "id": "NV4BU7up63rj"
      },
      "source": [
        "### История развития нейронных сетей\n",
        "Нейронные сети появились задолго до \"революции\", произошедшей в начале 2010-ых годов. Воспользуемся замечательной иллюстрацией за авторством [Favio Vázquez](https://medium.com/@faviovazquez), чтобы обратить внимание на наиболее значимые события:\n",
        "<!-- ![](https://cdn-images-1.medium.com/max/1024/1*kXqXVYSKjsNPPHaS4l4btw.png) -->\n",
        "![](https://miro.medium.com/max/3840/1*Z_DnCyKt18RM0aCCrFzaIQ.png)"
      ]
    },
    {
      "cell_type": "markdown",
      "metadata": {
        "id": "pVgczZx563rj"
      },
      "source": [
        "### Базовые понятия при работе с нейронными сетями\n",
        "\n",
        "__Нейронная сеть (neural network)__ – композиция линейных и нелинейных преобразований. В целом, нейронная сеть представляет собой сложную (параметрическую) функцию $f$, задающую отображение из исходного признакового пространства $\\mathbb{X}_O$ в целевое пространство $\\mathbb{Y}$:\n",
        "$$\n",
        "f: \\;\\;\\; \\mathbb{X}_O \\longrightarrow \\mathbb{Y}.\n",
        "$$\n",
        "Часто нейронные сети представляют собой последовательность преобразований, представленных слоями и функциями активации.\n",
        "\n",
        "__Слой (layer)__ – некоторая функция/преобразование над исходными данными. Простейший пример: линейный слой, являющийся линейным преобразованием над входящими данными (т.е. просто преобразование $WX +b$, как и в линейной регрессии).\n",
        "\n",
        "__Функция активации (activation function)__ – нелинейное преобразование, применяющееся ко всем данным пришедшим на вход поэлементно. Благодаря функциям активации нейронные сети способны преобразовывать данные *нелинейным образом*, что позволяет порождать более информативные признаковые описания.\n",
        "\n",
        "__Функция потерь (loss function)__ – функция потерь, оценивающая качество полученного предсказания. Как правило, от функции потерь требуется свойство дифференцируемости."
      ]
    },
    {
      "cell_type": "markdown",
      "metadata": {
        "id": "7bqVK5n_63rk"
      },
      "source": [
        "Рассмотрим простейшую нейронную сеть, реализованную с использованием PyTorch:"
      ]
    },
    {
      "cell_type": "code",
      "execution_count": null,
      "metadata": {
        "id": "j_8GZUn863rk"
      },
      "outputs": [],
      "source": [
        "import torch\n",
        "from torch import nn\n",
        "import numpy as np\n",
        "from torch.nn import functional as F\n",
        "from matplotlib import pyplot as plt\n",
        "from IPython.display import clear_output\n",
        "import torchvision"
      ]
    },
    {
      "cell_type": "code",
      "execution_count": null,
      "metadata": {
        "id": "9aguQX-i63rl"
      },
      "outputs": [],
      "source": [
        "simple_nn = nn.Linear(4, 1, bias=False)\n",
        "\n",
        "example_input = torch.ones(4)"
      ]
    },
    {
      "cell_type": "markdown",
      "metadata": {
        "id": "PzEMyO5N63rl"
      },
      "source": [
        "Применим ее к входному вектору размера (4):"
      ]
    },
    {
      "cell_type": "code",
      "execution_count": null,
      "metadata": {
        "id": "KtCxDpdh63rm"
      },
      "outputs": [],
      "source": [
        "output_torch = simple_nn(example_input)"
      ]
    },
    {
      "cell_type": "code",
      "execution_count": null,
      "metadata": {
        "id": "5UQelilB63rm",
        "outputId": "b3ff2247-b265-4efa-f1dd-43c802142ab7",
        "colab": {
          "base_uri": "https://localhost:8080/"
        }
      },
      "outputs": [
        {
          "output_type": "execute_result",
          "data": {
            "text/plain": [
              "tensor([0.1380], grad_fn=<SqueezeBackward3>)"
            ]
          },
          "metadata": {},
          "execution_count": 6
        }
      ],
      "source": [
        "output_torch"
      ]
    },
    {
      "cell_type": "markdown",
      "metadata": {
        "id": "VipkCsCV63rn"
      },
      "source": [
        "Легко заметить, что это просто линейная модель, и она с легкостью может быть реализована и без использования PyTorch:"
      ]
    },
    {
      "cell_type": "code",
      "execution_count": null,
      "metadata": {
        "id": "_82j5nXm63rn"
      },
      "outputs": [],
      "source": [
        "params_numpy = next(simple_nn.parameters()).detach().numpy()"
      ]
    },
    {
      "cell_type": "code",
      "execution_count": null,
      "metadata": {
        "id": "ccO4QiSO63rn"
      },
      "outputs": [],
      "source": [
        "output_np = params_numpy.dot(example_input.numpy())"
      ]
    },
    {
      "cell_type": "code",
      "execution_count": null,
      "metadata": {
        "id": "iNRxS0tU63rn"
      },
      "outputs": [],
      "source": [
        "assert output_np.item() == output_torch.item()"
      ]
    },
    {
      "cell_type": "markdown",
      "metadata": {
        "id": "Gnz0JdT363ro"
      },
      "source": [
        "Да, линейная регрессия тоже может быть рассмотрена как простая нейронная сеть без скрытых слоев и нелинейных функций активации. Но именно им нейронные сети во многом обязаны своей эффективностью. В дальнейшем мы вернемся к этому вопросу более подробно."
      ]
    },
    {
      "cell_type": "markdown",
      "metadata": {
        "id": "8iS_Unzt63ro"
      },
      "source": [
        "### Интерактивная демонстрация работы нейронных сетей\n",
        "Воспользуемся замечательной интерактивной \"песочницей\": https://playground.tensorflow.org/ для демонстрации процессов, происходящих \"внутри\" нейронной сети."
      ]
    },
    {
      "cell_type": "markdown",
      "metadata": {
        "id": "TUlSLaQJ63ro"
      },
      "source": [
        "### (Почти) реальная задача:\n",
        "В заключение, обратимся к задаче распознавания рукописных цифр. Для этого воспользуемся классическим набором данных [MNIST](http://yann.lecun.com/exdb/mnist/), который содержит около 60 тысяч изображений из десяти классов.\n",
        "\n",
        "Классификация датасета MNIST является некоторым \"Hello world\" в мире глубокого обучения и компьютерного зрения в частности.\n",
        "\n",
        "Конечно, в настоящий момент подобный набор данных выглядит \"игрушечным\" (как с точки зрения его размеров, так и с точки зрения самой структуры изображений). В научной среде уже не раз упоминалась его излишне простая структура, но своей наглядности и истории он от этого не теряет.\n",
        "\n",
        "Загрузка и предобработка данных практически полностью сделана за нас."
      ]
    },
    {
      "cell_type": "code",
      "execution_count": null,
      "metadata": {
        "id": "jxNqC08t63ro"
      },
      "outputs": [],
      "source": [
        "from torchvision.datasets import MNIST"
      ]
    },
    {
      "cell_type": "code",
      "execution_count": null,
      "metadata": {
        "id": "TJBXK3i163ro",
        "outputId": "678d94b7-99c2-442e-8745-e0bfec81d372",
        "colab": {
          "base_uri": "https://localhost:8080/",
          "height": 423,
          "referenced_widgets": [
            "716f6b5724f24ba8999148fda9b357b5",
            "125068d40eb24d3c9bc985b5c85ca71f",
            "ea68d37b018047d4a572cc7bfa184918",
            "b2e98456a6574225b4bb13cd8ca4a108",
            "5451a51446bc41a6b1bf6f3afe5c4dec",
            "42b3216a6f8d425189d3ed1196e73aeb",
            "003cc39e830448a9a3449a752c0e4f32",
            "80071bd5cdb14265988e598d78cdb4b1",
            "832bdc17856040bc8a48ce4d2721ac28",
            "546188f0c1354c9ba7273f43ebcd5ba7",
            "af1eaffc3a604397bba16a7c4adb38e8",
            "fc554c4c0ba141f2a0e22ad211124053",
            "3bd681040dd84ecbaa91e5f91168cdb9",
            "fb3bf77b146d4850855cca5ec2e7b3b5",
            "56912682c0bf4b5e9f1683145e6eafc9",
            "576262f1ed6a4746940d9dfef416fbb6",
            "cd044268b735476899ad3fe49447c700",
            "9d455d761b644e9784615781b8209c4c",
            "a3328aa73dd34d349a0b77d58264d718",
            "7d99cd53986b47d3b537126fb198eded",
            "bff93261d7494ca7b25c01818c116f24",
            "240fabccfdf04f069101f3d3c7bc521e",
            "2998a7eef6df48edbf232f57b93d25da",
            "1001ad41978a42e49946d793d7b7611b",
            "9c6b8a90b984470ab1369523bef4351e",
            "239db69b91874b9480266333d69cdf05",
            "c3f7cebc06694a709c60ba4597ed2a13",
            "0c2c26b9b87b4d868bd0f669990d93f4",
            "e20a253923bf4a43955f4e31ebec2257",
            "da4d448e9ed74ed48b089221cd653446",
            "51f2f40485d54d64a23f19d1b8cc8043",
            "2f8006744d564a2c93f4ffa94a678504",
            "4bb17b7d210b445592731dccaf79497e",
            "e42aa4c41e234d9cb436f0d75c50ff75",
            "6de6b121b6474df09fc9b9ad2bfa7483",
            "9f444b3e3e1b464c9cb628d4da0d053c",
            "f1d045e63a2a4f6d9e99f975762d102d",
            "1a4e7be2d89f411eb6c01126524e22a5",
            "945828a81bd445618efc8958004027dd",
            "3da2cafbaf874327b874233eefcd6a33",
            "87f546d197054d2ab3cb84c0ee26c1c1",
            "dc9bee44aa8647b496835db57b661766",
            "065a30439f8649cb864bd1425b59781d",
            "eae8adfcf42149868e687c434cb5e7f5"
          ]
        }
      },
      "outputs": [
        {
          "output_type": "stream",
          "name": "stdout",
          "text": [
            "Downloading http://yann.lecun.com/exdb/mnist/train-images-idx3-ubyte.gz\n",
            "Downloading http://yann.lecun.com/exdb/mnist/train-images-idx3-ubyte.gz to ./MNIST/raw/train-images-idx3-ubyte.gz\n"
          ]
        },
        {
          "output_type": "display_data",
          "data": {
            "text/plain": [
              "  0%|          | 0/9912422 [00:00<?, ?it/s]"
            ],
            "application/vnd.jupyter.widget-view+json": {
              "version_major": 2,
              "version_minor": 0,
              "model_id": "716f6b5724f24ba8999148fda9b357b5"
            }
          },
          "metadata": {}
        },
        {
          "output_type": "stream",
          "name": "stdout",
          "text": [
            "Extracting ./MNIST/raw/train-images-idx3-ubyte.gz to ./MNIST/raw\n",
            "\n",
            "Downloading http://yann.lecun.com/exdb/mnist/train-labels-idx1-ubyte.gz\n",
            "Downloading http://yann.lecun.com/exdb/mnist/train-labels-idx1-ubyte.gz to ./MNIST/raw/train-labels-idx1-ubyte.gz\n"
          ]
        },
        {
          "output_type": "display_data",
          "data": {
            "text/plain": [
              "  0%|          | 0/28881 [00:00<?, ?it/s]"
            ],
            "application/vnd.jupyter.widget-view+json": {
              "version_major": 2,
              "version_minor": 0,
              "model_id": "fc554c4c0ba141f2a0e22ad211124053"
            }
          },
          "metadata": {}
        },
        {
          "output_type": "stream",
          "name": "stdout",
          "text": [
            "Extracting ./MNIST/raw/train-labels-idx1-ubyte.gz to ./MNIST/raw\n",
            "\n",
            "Downloading http://yann.lecun.com/exdb/mnist/t10k-images-idx3-ubyte.gz\n",
            "Downloading http://yann.lecun.com/exdb/mnist/t10k-images-idx3-ubyte.gz to ./MNIST/raw/t10k-images-idx3-ubyte.gz\n"
          ]
        },
        {
          "output_type": "display_data",
          "data": {
            "text/plain": [
              "  0%|          | 0/1648877 [00:00<?, ?it/s]"
            ],
            "application/vnd.jupyter.widget-view+json": {
              "version_major": 2,
              "version_minor": 0,
              "model_id": "2998a7eef6df48edbf232f57b93d25da"
            }
          },
          "metadata": {}
        },
        {
          "output_type": "stream",
          "name": "stdout",
          "text": [
            "Extracting ./MNIST/raw/t10k-images-idx3-ubyte.gz to ./MNIST/raw\n",
            "\n",
            "Downloading http://yann.lecun.com/exdb/mnist/t10k-labels-idx1-ubyte.gz\n",
            "Downloading http://yann.lecun.com/exdb/mnist/t10k-labels-idx1-ubyte.gz to ./MNIST/raw/t10k-labels-idx1-ubyte.gz\n"
          ]
        },
        {
          "output_type": "display_data",
          "data": {
            "text/plain": [
              "  0%|          | 0/4542 [00:00<?, ?it/s]"
            ],
            "application/vnd.jupyter.widget-view+json": {
              "version_major": 2,
              "version_minor": 0,
              "model_id": "e42aa4c41e234d9cb436f0d75c50ff75"
            }
          },
          "metadata": {}
        },
        {
          "output_type": "stream",
          "name": "stdout",
          "text": [
            "Extracting ./MNIST/raw/t10k-labels-idx1-ubyte.gz to ./MNIST/raw\n",
            "\n"
          ]
        }
      ],
      "source": [
        "train_mnist_data = MNIST('.', train=True, transform=torchvision.transforms.ToTensor(), download=True)\n",
        "test_mnist_data = MNIST('.', train=False, transform=torchvision.transforms.ToTensor(), download=True)\n",
        "\n",
        "\n",
        "train_data_loader = torch.utils.data.DataLoader(\n",
        "    train_mnist_data,\n",
        "    batch_size=32,\n",
        "    shuffle=True,\n",
        "    num_workers=2\n",
        ")\n",
        "\n",
        "test_data_loader = torch.utils.data.DataLoader(\n",
        "    test_mnist_data,\n",
        "    batch_size=32,\n",
        "    shuffle=False,\n",
        "    num_workers=2\n",
        ")"
      ]
    },
    {
      "cell_type": "code",
      "execution_count": null,
      "metadata": {
        "id": "nAefa9B063ro",
        "colab": {
          "base_uri": "https://localhost:8080/"
        },
        "outputId": "d43767e0-c60e-4f7a-81fe-3b5b119c4359"
      },
      "outputs": [
        {
          "output_type": "stream",
          "name": "stdout",
          "text": [
            "train dataset size: 60000\n",
            "test dataset size: 10000\n"
          ]
        }
      ],
      "source": [
        "print(f'train dataset size: {len(train_mnist_data)}\\ntest dataset size: {len(test_mnist_data)}')"
      ]
    },
    {
      "cell_type": "markdown",
      "metadata": {
        "id": "4jTFKpkN63rp"
      },
      "source": [
        "В обучающей выборке `train_mnist_data` содержатся $60000$ примеров, на которые мы будем настраивать параметры нашей модели. Тестовая выборка `test_mnist_data` (содержит $10000$ примеров) будет использоваться для оценки качества итоговой модели.\n",
        "\n",
        "Рассмотрим данные внимательно:"
      ]
    },
    {
      "cell_type": "code",
      "execution_count": null,
      "metadata": {
        "id": "UrYpQpSQ63rp"
      },
      "outputs": [],
      "source": [
        "random_batch = next(iter(train_data_loader))\n",
        "_image, _label = random_batch[0][0], random_batch[1][0]\n",
        "plt.figure()\n",
        "plt.imshow(_image.reshape(28, 28))\n",
        "plt.title(f'Image label: {_label}')"
      ]
    },
    {
      "cell_type": "markdown",
      "metadata": {
        "id": "h9p-kCj863rp"
      },
      "source": [
        "По факту, каждое черно-белое изображение можно представить в виде матрицы."
      ]
    },
    {
      "cell_type": "markdown",
      "metadata": {
        "id": "N7V46m0m63rp"
      },
      "source": [
        "Для решения данной задачи классификации воспользуемся простой нейронной сетью, теперь уже реализованной с помощью PyTorch. На текущем занятии мы не будем погружаться в тонкости ее обучения: для этого необходимо разобрать метод обратного распространения ошибки (или же backpropagation).\n",
        "\n",
        "Также, напоминаем, что в любой момент можно обратиться к замечательной [документации](https://pytorch.org/docs/stable/index.html) и [обучающим примерам](https://pytorch.org/tutorials/).  \n",
        "\n",
        "Рассмотрим структуру базового класса `nn.Module` ниже:"
      ]
    },
    {
      "cell_type": "code",
      "execution_count": null,
      "metadata": {
        "id": "BfHreVXv63rp"
      },
      "outputs": [],
      "source": [
        "print(nn.Module.__doc__)"
      ]
    },
    {
      "cell_type": "markdown",
      "metadata": {
        "id": "WBG_JIJP63rp"
      },
      "source": [
        "Построим простую нейронную сеть, представляющую собой один линейный слой (и подходящую функцию активации – softmax). По сути, эта модель аналогична логистической регрессии. На вход будем подавать 784 признака, т.е. значение каждого пикселя изображения. Предсказывать будем ненормированные вероятности для каждого класса (т.е. 10 чисел)."
      ]
    },
    {
      "cell_type": "code",
      "execution_count": null,
      "metadata": {
        "id": "mgXOz5wO63rp"
      },
      "outputs": [],
      "source": [
        "# Creating model instance\n",
        "model = nn.Sequential()\n",
        "\n",
        "# Linear layer mapping 784 features (28*28 pixels) to 10 target values\n",
        "model.add_module('l1', nn.Linear(784, 10))"
      ]
    },
    {
      "cell_type": "markdown",
      "metadata": {
        "id": "z2gFa7Wp63rq"
      },
      "source": [
        "Не удивляйтесь явному отсутствию функции активации в конце, она появится позднее."
      ]
    },
    {
      "cell_type": "markdown",
      "metadata": {
        "id": "geWfGKhk63rq"
      },
      "source": [
        "В итоге у нашей модели $7850$ параметров:"
      ]
    },
    {
      "cell_type": "code",
      "execution_count": null,
      "metadata": {
        "id": "T68F_lMX63rq"
      },
      "outputs": [],
      "source": [
        "print(\"Weight shapes:\", [w.shape for w in model.parameters()])"
      ]
    },
    {
      "cell_type": "markdown",
      "metadata": {
        "id": "blvkUvNh63rq"
      },
      "source": [
        "Проверим поведение модели на случаных данных подходящей размерности и типа:"
      ]
    },
    {
      "cell_type": "code",
      "execution_count": null,
      "metadata": {
        "id": "vIKe_pjm63rq"
      },
      "outputs": [],
      "source": [
        "# create dummy data with 32 (`batch_size`) samples and 784 features\n",
        "x = random_batch[0].reshape(-1, 784)\n",
        "y = random_batch[1]\n",
        "\n",
        "# compute outputs given inputs, both are variables\n",
        "y_predicted = model(x)\n",
        "\n",
        "plt.pcolormesh(F.softmax(y_predicted[:4], dim=-1).detach())\n",
        "plt.colorbar()"
      ]
    },
    {
      "cell_type": "markdown",
      "metadata": {
        "id": "nWHDlTFu63rq"
      },
      "source": [
        "В качестве функции ошибки воспользуемся перекрестной энтропией (или кроссэнтропией, как ее принято называть). Она оценивает, насколько предсказанные вероятности принадлежности к тому или иному классу соответствуют истинным (100% верному классу, 0% всем остальным).\n",
        "\n",
        "Стоит обратить внимание, что `nn.CrossEntropyLos` уже включает в себя функцию активации (`LogSoftMax`). Именно поэтому мы не стали указывать функцию активации явно при построении самой сети. Т.к. нейронная сеть и функция потерь представляют собой единый граф вычислений, это абсолютно корректно и, вдобавок, удобно."
      ]
    },
    {
      "cell_type": "code",
      "execution_count": null,
      "metadata": {
        "id": "IKHFVvbb63rq"
      },
      "outputs": [],
      "source": [
        "loss_function = nn.CrossEntropyLoss()\n",
        "loss = loss_function(y_predicted, y)"
      ]
    },
    {
      "cell_type": "markdown",
      "metadata": {
        "id": "KQK7xgnQ63rq"
      },
      "source": [
        "Значение функции ошибки получилось следующим. Нельзя сказать, что оно слишком информативно."
      ]
    },
    {
      "cell_type": "code",
      "execution_count": null,
      "metadata": {
        "id": "umMotf_p63rq"
      },
      "outputs": [],
      "source": [
        "loss"
      ]
    },
    {
      "cell_type": "markdown",
      "metadata": {
        "id": "ZZnzdxoh63rq"
      },
      "source": [
        "PyTorch позволяет автоматически вычислять градиенты для моделей (и вообще математических выражений) которые удовлетворяют простым ограничениям. Сам механизм автоматического дифференцирования будет рассмотрен в грядущих занятиях. Сейчас же просто обратим внимание на то, что значение градиентов для градиентного спуска могут быть оценены используя модуль `opt`. Например, воспользуемся уже знакомым вам SGD:"
      ]
    },
    {
      "cell_type": "code",
      "execution_count": null,
      "metadata": {
        "id": "CheKRlpu63rr"
      },
      "outputs": [],
      "source": [
        "opt = torch.optim.SGD(model.parameters(), lr=0.01)\n",
        "\n",
        "# Get the gradients\n",
        "loss.backward()\n",
        "\n",
        "# Make a step\n",
        "opt.step()\n",
        "\n",
        "# Remove the gradients from the previous step\n",
        "opt.zero_grad()"
      ]
    },
    {
      "cell_type": "markdown",
      "metadata": {
        "id": "GwF3E7JG63rr"
      },
      "source": [
        "Одна эпоха обучения включает в себя количество шагов, необходимых для покрытия (примерно) всего датасета."
      ]
    },
    {
      "cell_type": "code",
      "execution_count": null,
      "metadata": {
        "id": "o-SUk2QU63rr"
      },
      "outputs": [],
      "source": [
        "NUM_EPOCHS = 5\n",
        "history = []\n",
        "plot_history = []\n",
        "\n",
        "for epoch in range(NUM_EPOCHS):\n",
        "    for _i, batch in enumerate(train_data_loader):\n",
        "        x_batch, y_batch = batch\n",
        "\n",
        "        # Get logit predictions\n",
        "        y_predicted = model(x_batch.reshape(-1, 784))\n",
        "\n",
        "        # Compute loss\n",
        "        loss = loss_function(y_predicted, y_batch)\n",
        "\n",
        "        # Get gradients\n",
        "        loss.backward()\n",
        "\n",
        "        # Make a gradient update\n",
        "        opt.step()\n",
        "\n",
        "        # Remove the gradients from the previous step\n",
        "        opt.zero_grad()\n",
        "\n",
        "        history.append(loss.item())\n",
        "\n",
        "        if (_i+50)%100==0:\n",
        "            clear_output(True)\n",
        "            plt.figure(figsize=(15, 10))\n",
        "            plot_history.append(np.mean(history[-100:]))\n",
        "            plt.plot(plot_history,label='loss')\n",
        "            plt.yscale('log')\n",
        "            plt.grid()\n",
        "            plt.xlabel('Iteration')\n",
        "            plt.ylabel('Loss value (in log scale)')\n",
        "            plt.legend()\n",
        "            plt.show()"
      ]
    },
    {
      "cell_type": "markdown",
      "metadata": {
        "id": "YbtL2Rl963rr"
      },
      "source": [
        "Оценим качество нашей модели на тестовой (или же отложенной) выборке. Для этого подсчитаем количество правильно классифицированных цифр."
      ]
    },
    {
      "cell_type": "code",
      "execution_count": null,
      "metadata": {
        "id": "lpuYMYhg63rr"
      },
      "outputs": [],
      "source": [
        "predicted_labels = []\n",
        "real_labels = []\n",
        "model.eval()\n",
        "with torch.no_grad():\n",
        "    for batch in test_data_loader:\n",
        "        y_predicted = model(batch[0].reshape(-1, 784))\n",
        "        predicted_labels.append(y_predicted.argmax(dim=1))\n",
        "        real_labels.append(batch[1])\n",
        "\n",
        "predicted_labels = torch.cat(predicted_labels)\n",
        "real_labels = torch.cat(real_labels)\n",
        "test_acc = (predicted_labels == real_labels).type(torch.FloatTensor).mean()"
      ]
    },
    {
      "cell_type": "code",
      "execution_count": null,
      "metadata": {
        "id": "fGWsbrup63rr"
      },
      "outputs": [],
      "source": [
        "print(f'Neural network accuracy on test set: {test_acc:3.5}')"
      ]
    },
    {
      "cell_type": "code",
      "execution_count": null,
      "metadata": {
        "id": "UCBRj-fR63rr"
      },
      "outputs": [],
      "source": [
        "predicted_labels = []\n",
        "real_labels = []\n",
        "model.eval()\n",
        "with torch.no_grad():\n",
        "    for batch in train_data_loader:\n",
        "        y_predicted = model(batch[0].reshape(-1, 784))\n",
        "        predicted_labels.append(y_predicted.argmax(dim=1))\n",
        "        real_labels.append(batch[1])\n",
        "\n",
        "predicted_labels = torch.cat(predicted_labels)\n",
        "real_labels = torch.cat(real_labels)\n",
        "train_acc = (predicted_labels == real_labels).type(torch.FloatTensor).mean()"
      ]
    },
    {
      "cell_type": "code",
      "execution_count": null,
      "metadata": {
        "id": "UpAYGJjv63rr"
      },
      "outputs": [],
      "source": [
        "print(f'Neural network accuracy on train set: {train_acc:3.5}')"
      ]
    },
    {
      "cell_type": "markdown",
      "metadata": {
        "id": "3DnSOlJG63rr"
      },
      "source": [
        "Качество распознавания достаточно неплохое.\n",
        "\n",
        "Но что будет с данными \"из другого домена\"? Протестируем нашу модель непосредственно \"рукописном\" (с помощью мыши/тачпада)  вводе:"
      ]
    },
    {
      "cell_type": "code",
      "execution_count": null,
      "metadata": {
        "id": "GTVqLnYn63rr"
      },
      "outputs": [],
      "source": [
        "from IPython.display import HTML\n",
        "data = None\n",
        "HTML(open(\"input.html\").read())"
      ]
    },
    {
      "cell_type": "code",
      "execution_count": null,
      "metadata": {
        "id": "CLnVzEdB63rr"
      },
      "outputs": [],
      "source": [
        "prepared_data = np.array(data).reshape((28, 28)).astype(np.float32)\n",
        "\n",
        "# If it fails, just comment the code below\n",
        "import scipy.ndimage as ndimage\n",
        "prepared_data = ndimage.gaussian_filter(prepared_data, sigma=(0.5))"
      ]
    },
    {
      "cell_type": "code",
      "execution_count": null,
      "metadata": {
        "id": "-MJz02UN63rs"
      },
      "outputs": [],
      "source": [
        "plt.imshow(prepared_data.squeeze())"
      ]
    },
    {
      "cell_type": "code",
      "execution_count": null,
      "metadata": {
        "id": "6_RaYdVT63rs"
      },
      "outputs": [],
      "source": [
        "transformed_image = torch.FloatTensor(prepared_data.reshape(1, 784))"
      ]
    },
    {
      "cell_type": "markdown",
      "metadata": {
        "id": "9hGnu-Ru63rs"
      },
      "source": [
        "Ниже можно увидеть вероятности, с которыми модель относит данное изображение к различным классам."
      ]
    },
    {
      "cell_type": "code",
      "execution_count": null,
      "metadata": {
        "id": "4n_hyCl763rs"
      },
      "outputs": [],
      "source": [
        "plt.bar(np.arange(10), F.softmax(model(transformed_image), dim=-1).detach().numpy()[0])\n",
        "plt.grid()\n",
        "_ = plt.xticks(range(10))\n",
        "plt.xlabel('predicted class label')\n",
        "plt.ylabel('class probability')\n",
        "_ = plt.title('Model confidence')"
      ]
    },
    {
      "cell_type": "code",
      "execution_count": null,
      "metadata": {
        "id": "ndf9dtVM63rs"
      },
      "outputs": [],
      "source": [
        "print(\"This model predicted your input as\", model(transformed_image).argmax().item())"
      ]
    },
    {
      "cell_type": "markdown",
      "metadata": {
        "id": "HHTkk1KD63rs"
      },
      "source": [
        "Выглядит неплохо. Для получения лучшиъ результатов могут быть полезны сверточные слои, которые мы рассмотрим в одном из следующих занятий. Но на датасете MNIST не слишком сложно достичь и 100% доли правильных ответов на отложенной выборке.\n",
        "\n",
        "Если Вы хотите попрактиковаться с более сложным датасетом, Вы можете воспользоваться\n",
        "[FashionMNIST](https://github.com/zalandoresearch/fashion-mnist). Этот датасет полностью аналогичнен MNIST по структуре (и весь код, который использовался для MNIST может быть использован и для FashionMNIST), но в нем представлены изображения различных предметов одежды (кроссовки, футбоки и т.д.).\n"
      ]
    },
    {
      "cell_type": "markdown",
      "metadata": {
        "id": "hLnphVnI63rs"
      },
      "source": [
        "### Выводы:\n",
        "* Нейронные сети не являются некоторым \"противопоставлением\" классическим моделям, а дополняют их и во многом развивают предложенные в них идеи.\n",
        "* Для работы с нейронными сетями существует множество различных фреймворков, но в настоящее время наиболее актуальными из них являются TensorFlow и PyTorch. Именно PyTorch будет использоваться в данном курсе в дальнейшем.\n",
        "* Нейронные сети представляют собой композицию преобразований, которые позволяют выучивать информативное представление данных, что особенно полезно в работе с данными обладающими структурой.\n",
        "* Нейронные сети позволяют выучивать информативные представления для данных end-to-end, что во многом обуславливает их эффективность. На грядущих занятиях мы рассмотрим данный механизм более подробно."
      ]
    }
  ],
  "metadata": {
    "kernelspec": {
      "display_name": "Py3 Research",
      "language": "python",
      "name": "py3_research"
    },
    "language_info": {
      "codemirror_mode": {
        "name": "ipython",
        "version": 3
      },
      "file_extension": ".py",
      "mimetype": "text/x-python",
      "name": "python",
      "nbconvert_exporter": "python",
      "pygments_lexer": "ipython3",
      "version": "3.7.7"
    },
    "colab": {
      "provenance": []
    },
    "widgets": {
      "application/vnd.jupyter.widget-state+json": {
        "716f6b5724f24ba8999148fda9b357b5": {
          "model_module": "@jupyter-widgets/controls",
          "model_name": "HBoxModel",
          "model_module_version": "1.5.0",
          "state": {
            "_dom_classes": [],
            "_model_module": "@jupyter-widgets/controls",
            "_model_module_version": "1.5.0",
            "_model_name": "HBoxModel",
            "_view_count": null,
            "_view_module": "@jupyter-widgets/controls",
            "_view_module_version": "1.5.0",
            "_view_name": "HBoxView",
            "box_style": "",
            "children": [
              "IPY_MODEL_125068d40eb24d3c9bc985b5c85ca71f",
              "IPY_MODEL_ea68d37b018047d4a572cc7bfa184918",
              "IPY_MODEL_b2e98456a6574225b4bb13cd8ca4a108"
            ],
            "layout": "IPY_MODEL_5451a51446bc41a6b1bf6f3afe5c4dec"
          }
        },
        "125068d40eb24d3c9bc985b5c85ca71f": {
          "model_module": "@jupyter-widgets/controls",
          "model_name": "HTMLModel",
          "model_module_version": "1.5.0",
          "state": {
            "_dom_classes": [],
            "_model_module": "@jupyter-widgets/controls",
            "_model_module_version": "1.5.0",
            "_model_name": "HTMLModel",
            "_view_count": null,
            "_view_module": "@jupyter-widgets/controls",
            "_view_module_version": "1.5.0",
            "_view_name": "HTMLView",
            "description": "",
            "description_tooltip": null,
            "layout": "IPY_MODEL_42b3216a6f8d425189d3ed1196e73aeb",
            "placeholder": "​",
            "style": "IPY_MODEL_003cc39e830448a9a3449a752c0e4f32",
            "value": "100%"
          }
        },
        "ea68d37b018047d4a572cc7bfa184918": {
          "model_module": "@jupyter-widgets/controls",
          "model_name": "FloatProgressModel",
          "model_module_version": "1.5.0",
          "state": {
            "_dom_classes": [],
            "_model_module": "@jupyter-widgets/controls",
            "_model_module_version": "1.5.0",
            "_model_name": "FloatProgressModel",
            "_view_count": null,
            "_view_module": "@jupyter-widgets/controls",
            "_view_module_version": "1.5.0",
            "_view_name": "ProgressView",
            "bar_style": "success",
            "description": "",
            "description_tooltip": null,
            "layout": "IPY_MODEL_80071bd5cdb14265988e598d78cdb4b1",
            "max": 9912422,
            "min": 0,
            "orientation": "horizontal",
            "style": "IPY_MODEL_832bdc17856040bc8a48ce4d2721ac28",
            "value": 9912422
          }
        },
        "b2e98456a6574225b4bb13cd8ca4a108": {
          "model_module": "@jupyter-widgets/controls",
          "model_name": "HTMLModel",
          "model_module_version": "1.5.0",
          "state": {
            "_dom_classes": [],
            "_model_module": "@jupyter-widgets/controls",
            "_model_module_version": "1.5.0",
            "_model_name": "HTMLModel",
            "_view_count": null,
            "_view_module": "@jupyter-widgets/controls",
            "_view_module_version": "1.5.0",
            "_view_name": "HTMLView",
            "description": "",
            "description_tooltip": null,
            "layout": "IPY_MODEL_546188f0c1354c9ba7273f43ebcd5ba7",
            "placeholder": "​",
            "style": "IPY_MODEL_af1eaffc3a604397bba16a7c4adb38e8",
            "value": " 9912422/9912422 [00:00&lt;00:00, 37611335.60it/s]"
          }
        },
        "5451a51446bc41a6b1bf6f3afe5c4dec": {
          "model_module": "@jupyter-widgets/base",
          "model_name": "LayoutModel",
          "model_module_version": "1.2.0",
          "state": {
            "_model_module": "@jupyter-widgets/base",
            "_model_module_version": "1.2.0",
            "_model_name": "LayoutModel",
            "_view_count": null,
            "_view_module": "@jupyter-widgets/base",
            "_view_module_version": "1.2.0",
            "_view_name": "LayoutView",
            "align_content": null,
            "align_items": null,
            "align_self": null,
            "border": null,
            "bottom": null,
            "display": null,
            "flex": null,
            "flex_flow": null,
            "grid_area": null,
            "grid_auto_columns": null,
            "grid_auto_flow": null,
            "grid_auto_rows": null,
            "grid_column": null,
            "grid_gap": null,
            "grid_row": null,
            "grid_template_areas": null,
            "grid_template_columns": null,
            "grid_template_rows": null,
            "height": null,
            "justify_content": null,
            "justify_items": null,
            "left": null,
            "margin": null,
            "max_height": null,
            "max_width": null,
            "min_height": null,
            "min_width": null,
            "object_fit": null,
            "object_position": null,
            "order": null,
            "overflow": null,
            "overflow_x": null,
            "overflow_y": null,
            "padding": null,
            "right": null,
            "top": null,
            "visibility": null,
            "width": null
          }
        },
        "42b3216a6f8d425189d3ed1196e73aeb": {
          "model_module": "@jupyter-widgets/base",
          "model_name": "LayoutModel",
          "model_module_version": "1.2.0",
          "state": {
            "_model_module": "@jupyter-widgets/base",
            "_model_module_version": "1.2.0",
            "_model_name": "LayoutModel",
            "_view_count": null,
            "_view_module": "@jupyter-widgets/base",
            "_view_module_version": "1.2.0",
            "_view_name": "LayoutView",
            "align_content": null,
            "align_items": null,
            "align_self": null,
            "border": null,
            "bottom": null,
            "display": null,
            "flex": null,
            "flex_flow": null,
            "grid_area": null,
            "grid_auto_columns": null,
            "grid_auto_flow": null,
            "grid_auto_rows": null,
            "grid_column": null,
            "grid_gap": null,
            "grid_row": null,
            "grid_template_areas": null,
            "grid_template_columns": null,
            "grid_template_rows": null,
            "height": null,
            "justify_content": null,
            "justify_items": null,
            "left": null,
            "margin": null,
            "max_height": null,
            "max_width": null,
            "min_height": null,
            "min_width": null,
            "object_fit": null,
            "object_position": null,
            "order": null,
            "overflow": null,
            "overflow_x": null,
            "overflow_y": null,
            "padding": null,
            "right": null,
            "top": null,
            "visibility": null,
            "width": null
          }
        },
        "003cc39e830448a9a3449a752c0e4f32": {
          "model_module": "@jupyter-widgets/controls",
          "model_name": "DescriptionStyleModel",
          "model_module_version": "1.5.0",
          "state": {
            "_model_module": "@jupyter-widgets/controls",
            "_model_module_version": "1.5.0",
            "_model_name": "DescriptionStyleModel",
            "_view_count": null,
            "_view_module": "@jupyter-widgets/base",
            "_view_module_version": "1.2.0",
            "_view_name": "StyleView",
            "description_width": ""
          }
        },
        "80071bd5cdb14265988e598d78cdb4b1": {
          "model_module": "@jupyter-widgets/base",
          "model_name": "LayoutModel",
          "model_module_version": "1.2.0",
          "state": {
            "_model_module": "@jupyter-widgets/base",
            "_model_module_version": "1.2.0",
            "_model_name": "LayoutModel",
            "_view_count": null,
            "_view_module": "@jupyter-widgets/base",
            "_view_module_version": "1.2.0",
            "_view_name": "LayoutView",
            "align_content": null,
            "align_items": null,
            "align_self": null,
            "border": null,
            "bottom": null,
            "display": null,
            "flex": null,
            "flex_flow": null,
            "grid_area": null,
            "grid_auto_columns": null,
            "grid_auto_flow": null,
            "grid_auto_rows": null,
            "grid_column": null,
            "grid_gap": null,
            "grid_row": null,
            "grid_template_areas": null,
            "grid_template_columns": null,
            "grid_template_rows": null,
            "height": null,
            "justify_content": null,
            "justify_items": null,
            "left": null,
            "margin": null,
            "max_height": null,
            "max_width": null,
            "min_height": null,
            "min_width": null,
            "object_fit": null,
            "object_position": null,
            "order": null,
            "overflow": null,
            "overflow_x": null,
            "overflow_y": null,
            "padding": null,
            "right": null,
            "top": null,
            "visibility": null,
            "width": null
          }
        },
        "832bdc17856040bc8a48ce4d2721ac28": {
          "model_module": "@jupyter-widgets/controls",
          "model_name": "ProgressStyleModel",
          "model_module_version": "1.5.0",
          "state": {
            "_model_module": "@jupyter-widgets/controls",
            "_model_module_version": "1.5.0",
            "_model_name": "ProgressStyleModel",
            "_view_count": null,
            "_view_module": "@jupyter-widgets/base",
            "_view_module_version": "1.2.0",
            "_view_name": "StyleView",
            "bar_color": null,
            "description_width": ""
          }
        },
        "546188f0c1354c9ba7273f43ebcd5ba7": {
          "model_module": "@jupyter-widgets/base",
          "model_name": "LayoutModel",
          "model_module_version": "1.2.0",
          "state": {
            "_model_module": "@jupyter-widgets/base",
            "_model_module_version": "1.2.0",
            "_model_name": "LayoutModel",
            "_view_count": null,
            "_view_module": "@jupyter-widgets/base",
            "_view_module_version": "1.2.0",
            "_view_name": "LayoutView",
            "align_content": null,
            "align_items": null,
            "align_self": null,
            "border": null,
            "bottom": null,
            "display": null,
            "flex": null,
            "flex_flow": null,
            "grid_area": null,
            "grid_auto_columns": null,
            "grid_auto_flow": null,
            "grid_auto_rows": null,
            "grid_column": null,
            "grid_gap": null,
            "grid_row": null,
            "grid_template_areas": null,
            "grid_template_columns": null,
            "grid_template_rows": null,
            "height": null,
            "justify_content": null,
            "justify_items": null,
            "left": null,
            "margin": null,
            "max_height": null,
            "max_width": null,
            "min_height": null,
            "min_width": null,
            "object_fit": null,
            "object_position": null,
            "order": null,
            "overflow": null,
            "overflow_x": null,
            "overflow_y": null,
            "padding": null,
            "right": null,
            "top": null,
            "visibility": null,
            "width": null
          }
        },
        "af1eaffc3a604397bba16a7c4adb38e8": {
          "model_module": "@jupyter-widgets/controls",
          "model_name": "DescriptionStyleModel",
          "model_module_version": "1.5.0",
          "state": {
            "_model_module": "@jupyter-widgets/controls",
            "_model_module_version": "1.5.0",
            "_model_name": "DescriptionStyleModel",
            "_view_count": null,
            "_view_module": "@jupyter-widgets/base",
            "_view_module_version": "1.2.0",
            "_view_name": "StyleView",
            "description_width": ""
          }
        },
        "fc554c4c0ba141f2a0e22ad211124053": {
          "model_module": "@jupyter-widgets/controls",
          "model_name": "HBoxModel",
          "model_module_version": "1.5.0",
          "state": {
            "_dom_classes": [],
            "_model_module": "@jupyter-widgets/controls",
            "_model_module_version": "1.5.0",
            "_model_name": "HBoxModel",
            "_view_count": null,
            "_view_module": "@jupyter-widgets/controls",
            "_view_module_version": "1.5.0",
            "_view_name": "HBoxView",
            "box_style": "",
            "children": [
              "IPY_MODEL_3bd681040dd84ecbaa91e5f91168cdb9",
              "IPY_MODEL_fb3bf77b146d4850855cca5ec2e7b3b5",
              "IPY_MODEL_56912682c0bf4b5e9f1683145e6eafc9"
            ],
            "layout": "IPY_MODEL_576262f1ed6a4746940d9dfef416fbb6"
          }
        },
        "3bd681040dd84ecbaa91e5f91168cdb9": {
          "model_module": "@jupyter-widgets/controls",
          "model_name": "HTMLModel",
          "model_module_version": "1.5.0",
          "state": {
            "_dom_classes": [],
            "_model_module": "@jupyter-widgets/controls",
            "_model_module_version": "1.5.0",
            "_model_name": "HTMLModel",
            "_view_count": null,
            "_view_module": "@jupyter-widgets/controls",
            "_view_module_version": "1.5.0",
            "_view_name": "HTMLView",
            "description": "",
            "description_tooltip": null,
            "layout": "IPY_MODEL_cd044268b735476899ad3fe49447c700",
            "placeholder": "​",
            "style": "IPY_MODEL_9d455d761b644e9784615781b8209c4c",
            "value": "100%"
          }
        },
        "fb3bf77b146d4850855cca5ec2e7b3b5": {
          "model_module": "@jupyter-widgets/controls",
          "model_name": "FloatProgressModel",
          "model_module_version": "1.5.0",
          "state": {
            "_dom_classes": [],
            "_model_module": "@jupyter-widgets/controls",
            "_model_module_version": "1.5.0",
            "_model_name": "FloatProgressModel",
            "_view_count": null,
            "_view_module": "@jupyter-widgets/controls",
            "_view_module_version": "1.5.0",
            "_view_name": "ProgressView",
            "bar_style": "success",
            "description": "",
            "description_tooltip": null,
            "layout": "IPY_MODEL_a3328aa73dd34d349a0b77d58264d718",
            "max": 28881,
            "min": 0,
            "orientation": "horizontal",
            "style": "IPY_MODEL_7d99cd53986b47d3b537126fb198eded",
            "value": 28881
          }
        },
        "56912682c0bf4b5e9f1683145e6eafc9": {
          "model_module": "@jupyter-widgets/controls",
          "model_name": "HTMLModel",
          "model_module_version": "1.5.0",
          "state": {
            "_dom_classes": [],
            "_model_module": "@jupyter-widgets/controls",
            "_model_module_version": "1.5.0",
            "_model_name": "HTMLModel",
            "_view_count": null,
            "_view_module": "@jupyter-widgets/controls",
            "_view_module_version": "1.5.0",
            "_view_name": "HTMLView",
            "description": "",
            "description_tooltip": null,
            "layout": "IPY_MODEL_bff93261d7494ca7b25c01818c116f24",
            "placeholder": "​",
            "style": "IPY_MODEL_240fabccfdf04f069101f3d3c7bc521e",
            "value": " 28881/28881 [00:00&lt;00:00, 649507.22it/s]"
          }
        },
        "576262f1ed6a4746940d9dfef416fbb6": {
          "model_module": "@jupyter-widgets/base",
          "model_name": "LayoutModel",
          "model_module_version": "1.2.0",
          "state": {
            "_model_module": "@jupyter-widgets/base",
            "_model_module_version": "1.2.0",
            "_model_name": "LayoutModel",
            "_view_count": null,
            "_view_module": "@jupyter-widgets/base",
            "_view_module_version": "1.2.0",
            "_view_name": "LayoutView",
            "align_content": null,
            "align_items": null,
            "align_self": null,
            "border": null,
            "bottom": null,
            "display": null,
            "flex": null,
            "flex_flow": null,
            "grid_area": null,
            "grid_auto_columns": null,
            "grid_auto_flow": null,
            "grid_auto_rows": null,
            "grid_column": null,
            "grid_gap": null,
            "grid_row": null,
            "grid_template_areas": null,
            "grid_template_columns": null,
            "grid_template_rows": null,
            "height": null,
            "justify_content": null,
            "justify_items": null,
            "left": null,
            "margin": null,
            "max_height": null,
            "max_width": null,
            "min_height": null,
            "min_width": null,
            "object_fit": null,
            "object_position": null,
            "order": null,
            "overflow": null,
            "overflow_x": null,
            "overflow_y": null,
            "padding": null,
            "right": null,
            "top": null,
            "visibility": null,
            "width": null
          }
        },
        "cd044268b735476899ad3fe49447c700": {
          "model_module": "@jupyter-widgets/base",
          "model_name": "LayoutModel",
          "model_module_version": "1.2.0",
          "state": {
            "_model_module": "@jupyter-widgets/base",
            "_model_module_version": "1.2.0",
            "_model_name": "LayoutModel",
            "_view_count": null,
            "_view_module": "@jupyter-widgets/base",
            "_view_module_version": "1.2.0",
            "_view_name": "LayoutView",
            "align_content": null,
            "align_items": null,
            "align_self": null,
            "border": null,
            "bottom": null,
            "display": null,
            "flex": null,
            "flex_flow": null,
            "grid_area": null,
            "grid_auto_columns": null,
            "grid_auto_flow": null,
            "grid_auto_rows": null,
            "grid_column": null,
            "grid_gap": null,
            "grid_row": null,
            "grid_template_areas": null,
            "grid_template_columns": null,
            "grid_template_rows": null,
            "height": null,
            "justify_content": null,
            "justify_items": null,
            "left": null,
            "margin": null,
            "max_height": null,
            "max_width": null,
            "min_height": null,
            "min_width": null,
            "object_fit": null,
            "object_position": null,
            "order": null,
            "overflow": null,
            "overflow_x": null,
            "overflow_y": null,
            "padding": null,
            "right": null,
            "top": null,
            "visibility": null,
            "width": null
          }
        },
        "9d455d761b644e9784615781b8209c4c": {
          "model_module": "@jupyter-widgets/controls",
          "model_name": "DescriptionStyleModel",
          "model_module_version": "1.5.0",
          "state": {
            "_model_module": "@jupyter-widgets/controls",
            "_model_module_version": "1.5.0",
            "_model_name": "DescriptionStyleModel",
            "_view_count": null,
            "_view_module": "@jupyter-widgets/base",
            "_view_module_version": "1.2.0",
            "_view_name": "StyleView",
            "description_width": ""
          }
        },
        "a3328aa73dd34d349a0b77d58264d718": {
          "model_module": "@jupyter-widgets/base",
          "model_name": "LayoutModel",
          "model_module_version": "1.2.0",
          "state": {
            "_model_module": "@jupyter-widgets/base",
            "_model_module_version": "1.2.0",
            "_model_name": "LayoutModel",
            "_view_count": null,
            "_view_module": "@jupyter-widgets/base",
            "_view_module_version": "1.2.0",
            "_view_name": "LayoutView",
            "align_content": null,
            "align_items": null,
            "align_self": null,
            "border": null,
            "bottom": null,
            "display": null,
            "flex": null,
            "flex_flow": null,
            "grid_area": null,
            "grid_auto_columns": null,
            "grid_auto_flow": null,
            "grid_auto_rows": null,
            "grid_column": null,
            "grid_gap": null,
            "grid_row": null,
            "grid_template_areas": null,
            "grid_template_columns": null,
            "grid_template_rows": null,
            "height": null,
            "justify_content": null,
            "justify_items": null,
            "left": null,
            "margin": null,
            "max_height": null,
            "max_width": null,
            "min_height": null,
            "min_width": null,
            "object_fit": null,
            "object_position": null,
            "order": null,
            "overflow": null,
            "overflow_x": null,
            "overflow_y": null,
            "padding": null,
            "right": null,
            "top": null,
            "visibility": null,
            "width": null
          }
        },
        "7d99cd53986b47d3b537126fb198eded": {
          "model_module": "@jupyter-widgets/controls",
          "model_name": "ProgressStyleModel",
          "model_module_version": "1.5.0",
          "state": {
            "_model_module": "@jupyter-widgets/controls",
            "_model_module_version": "1.5.0",
            "_model_name": "ProgressStyleModel",
            "_view_count": null,
            "_view_module": "@jupyter-widgets/base",
            "_view_module_version": "1.2.0",
            "_view_name": "StyleView",
            "bar_color": null,
            "description_width": ""
          }
        },
        "bff93261d7494ca7b25c01818c116f24": {
          "model_module": "@jupyter-widgets/base",
          "model_name": "LayoutModel",
          "model_module_version": "1.2.0",
          "state": {
            "_model_module": "@jupyter-widgets/base",
            "_model_module_version": "1.2.0",
            "_model_name": "LayoutModel",
            "_view_count": null,
            "_view_module": "@jupyter-widgets/base",
            "_view_module_version": "1.2.0",
            "_view_name": "LayoutView",
            "align_content": null,
            "align_items": null,
            "align_self": null,
            "border": null,
            "bottom": null,
            "display": null,
            "flex": null,
            "flex_flow": null,
            "grid_area": null,
            "grid_auto_columns": null,
            "grid_auto_flow": null,
            "grid_auto_rows": null,
            "grid_column": null,
            "grid_gap": null,
            "grid_row": null,
            "grid_template_areas": null,
            "grid_template_columns": null,
            "grid_template_rows": null,
            "height": null,
            "justify_content": null,
            "justify_items": null,
            "left": null,
            "margin": null,
            "max_height": null,
            "max_width": null,
            "min_height": null,
            "min_width": null,
            "object_fit": null,
            "object_position": null,
            "order": null,
            "overflow": null,
            "overflow_x": null,
            "overflow_y": null,
            "padding": null,
            "right": null,
            "top": null,
            "visibility": null,
            "width": null
          }
        },
        "240fabccfdf04f069101f3d3c7bc521e": {
          "model_module": "@jupyter-widgets/controls",
          "model_name": "DescriptionStyleModel",
          "model_module_version": "1.5.0",
          "state": {
            "_model_module": "@jupyter-widgets/controls",
            "_model_module_version": "1.5.0",
            "_model_name": "DescriptionStyleModel",
            "_view_count": null,
            "_view_module": "@jupyter-widgets/base",
            "_view_module_version": "1.2.0",
            "_view_name": "StyleView",
            "description_width": ""
          }
        },
        "2998a7eef6df48edbf232f57b93d25da": {
          "model_module": "@jupyter-widgets/controls",
          "model_name": "HBoxModel",
          "model_module_version": "1.5.0",
          "state": {
            "_dom_classes": [],
            "_model_module": "@jupyter-widgets/controls",
            "_model_module_version": "1.5.0",
            "_model_name": "HBoxModel",
            "_view_count": null,
            "_view_module": "@jupyter-widgets/controls",
            "_view_module_version": "1.5.0",
            "_view_name": "HBoxView",
            "box_style": "",
            "children": [
              "IPY_MODEL_1001ad41978a42e49946d793d7b7611b",
              "IPY_MODEL_9c6b8a90b984470ab1369523bef4351e",
              "IPY_MODEL_239db69b91874b9480266333d69cdf05"
            ],
            "layout": "IPY_MODEL_c3f7cebc06694a709c60ba4597ed2a13"
          }
        },
        "1001ad41978a42e49946d793d7b7611b": {
          "model_module": "@jupyter-widgets/controls",
          "model_name": "HTMLModel",
          "model_module_version": "1.5.0",
          "state": {
            "_dom_classes": [],
            "_model_module": "@jupyter-widgets/controls",
            "_model_module_version": "1.5.0",
            "_model_name": "HTMLModel",
            "_view_count": null,
            "_view_module": "@jupyter-widgets/controls",
            "_view_module_version": "1.5.0",
            "_view_name": "HTMLView",
            "description": "",
            "description_tooltip": null,
            "layout": "IPY_MODEL_0c2c26b9b87b4d868bd0f669990d93f4",
            "placeholder": "​",
            "style": "IPY_MODEL_e20a253923bf4a43955f4e31ebec2257",
            "value": "100%"
          }
        },
        "9c6b8a90b984470ab1369523bef4351e": {
          "model_module": "@jupyter-widgets/controls",
          "model_name": "FloatProgressModel",
          "model_module_version": "1.5.0",
          "state": {
            "_dom_classes": [],
            "_model_module": "@jupyter-widgets/controls",
            "_model_module_version": "1.5.0",
            "_model_name": "FloatProgressModel",
            "_view_count": null,
            "_view_module": "@jupyter-widgets/controls",
            "_view_module_version": "1.5.0",
            "_view_name": "ProgressView",
            "bar_style": "success",
            "description": "",
            "description_tooltip": null,
            "layout": "IPY_MODEL_da4d448e9ed74ed48b089221cd653446",
            "max": 1648877,
            "min": 0,
            "orientation": "horizontal",
            "style": "IPY_MODEL_51f2f40485d54d64a23f19d1b8cc8043",
            "value": 1648877
          }
        },
        "239db69b91874b9480266333d69cdf05": {
          "model_module": "@jupyter-widgets/controls",
          "model_name": "HTMLModel",
          "model_module_version": "1.5.0",
          "state": {
            "_dom_classes": [],
            "_model_module": "@jupyter-widgets/controls",
            "_model_module_version": "1.5.0",
            "_model_name": "HTMLModel",
            "_view_count": null,
            "_view_module": "@jupyter-widgets/controls",
            "_view_module_version": "1.5.0",
            "_view_name": "HTMLView",
            "description": "",
            "description_tooltip": null,
            "layout": "IPY_MODEL_2f8006744d564a2c93f4ffa94a678504",
            "placeholder": "​",
            "style": "IPY_MODEL_4bb17b7d210b445592731dccaf79497e",
            "value": " 1648877/1648877 [00:00&lt;00:00, 32166188.68it/s]"
          }
        },
        "c3f7cebc06694a709c60ba4597ed2a13": {
          "model_module": "@jupyter-widgets/base",
          "model_name": "LayoutModel",
          "model_module_version": "1.2.0",
          "state": {
            "_model_module": "@jupyter-widgets/base",
            "_model_module_version": "1.2.0",
            "_model_name": "LayoutModel",
            "_view_count": null,
            "_view_module": "@jupyter-widgets/base",
            "_view_module_version": "1.2.0",
            "_view_name": "LayoutView",
            "align_content": null,
            "align_items": null,
            "align_self": null,
            "border": null,
            "bottom": null,
            "display": null,
            "flex": null,
            "flex_flow": null,
            "grid_area": null,
            "grid_auto_columns": null,
            "grid_auto_flow": null,
            "grid_auto_rows": null,
            "grid_column": null,
            "grid_gap": null,
            "grid_row": null,
            "grid_template_areas": null,
            "grid_template_columns": null,
            "grid_template_rows": null,
            "height": null,
            "justify_content": null,
            "justify_items": null,
            "left": null,
            "margin": null,
            "max_height": null,
            "max_width": null,
            "min_height": null,
            "min_width": null,
            "object_fit": null,
            "object_position": null,
            "order": null,
            "overflow": null,
            "overflow_x": null,
            "overflow_y": null,
            "padding": null,
            "right": null,
            "top": null,
            "visibility": null,
            "width": null
          }
        },
        "0c2c26b9b87b4d868bd0f669990d93f4": {
          "model_module": "@jupyter-widgets/base",
          "model_name": "LayoutModel",
          "model_module_version": "1.2.0",
          "state": {
            "_model_module": "@jupyter-widgets/base",
            "_model_module_version": "1.2.0",
            "_model_name": "LayoutModel",
            "_view_count": null,
            "_view_module": "@jupyter-widgets/base",
            "_view_module_version": "1.2.0",
            "_view_name": "LayoutView",
            "align_content": null,
            "align_items": null,
            "align_self": null,
            "border": null,
            "bottom": null,
            "display": null,
            "flex": null,
            "flex_flow": null,
            "grid_area": null,
            "grid_auto_columns": null,
            "grid_auto_flow": null,
            "grid_auto_rows": null,
            "grid_column": null,
            "grid_gap": null,
            "grid_row": null,
            "grid_template_areas": null,
            "grid_template_columns": null,
            "grid_template_rows": null,
            "height": null,
            "justify_content": null,
            "justify_items": null,
            "left": null,
            "margin": null,
            "max_height": null,
            "max_width": null,
            "min_height": null,
            "min_width": null,
            "object_fit": null,
            "object_position": null,
            "order": null,
            "overflow": null,
            "overflow_x": null,
            "overflow_y": null,
            "padding": null,
            "right": null,
            "top": null,
            "visibility": null,
            "width": null
          }
        },
        "e20a253923bf4a43955f4e31ebec2257": {
          "model_module": "@jupyter-widgets/controls",
          "model_name": "DescriptionStyleModel",
          "model_module_version": "1.5.0",
          "state": {
            "_model_module": "@jupyter-widgets/controls",
            "_model_module_version": "1.5.0",
            "_model_name": "DescriptionStyleModel",
            "_view_count": null,
            "_view_module": "@jupyter-widgets/base",
            "_view_module_version": "1.2.0",
            "_view_name": "StyleView",
            "description_width": ""
          }
        },
        "da4d448e9ed74ed48b089221cd653446": {
          "model_module": "@jupyter-widgets/base",
          "model_name": "LayoutModel",
          "model_module_version": "1.2.0",
          "state": {
            "_model_module": "@jupyter-widgets/base",
            "_model_module_version": "1.2.0",
            "_model_name": "LayoutModel",
            "_view_count": null,
            "_view_module": "@jupyter-widgets/base",
            "_view_module_version": "1.2.0",
            "_view_name": "LayoutView",
            "align_content": null,
            "align_items": null,
            "align_self": null,
            "border": null,
            "bottom": null,
            "display": null,
            "flex": null,
            "flex_flow": null,
            "grid_area": null,
            "grid_auto_columns": null,
            "grid_auto_flow": null,
            "grid_auto_rows": null,
            "grid_column": null,
            "grid_gap": null,
            "grid_row": null,
            "grid_template_areas": null,
            "grid_template_columns": null,
            "grid_template_rows": null,
            "height": null,
            "justify_content": null,
            "justify_items": null,
            "left": null,
            "margin": null,
            "max_height": null,
            "max_width": null,
            "min_height": null,
            "min_width": null,
            "object_fit": null,
            "object_position": null,
            "order": null,
            "overflow": null,
            "overflow_x": null,
            "overflow_y": null,
            "padding": null,
            "right": null,
            "top": null,
            "visibility": null,
            "width": null
          }
        },
        "51f2f40485d54d64a23f19d1b8cc8043": {
          "model_module": "@jupyter-widgets/controls",
          "model_name": "ProgressStyleModel",
          "model_module_version": "1.5.0",
          "state": {
            "_model_module": "@jupyter-widgets/controls",
            "_model_module_version": "1.5.0",
            "_model_name": "ProgressStyleModel",
            "_view_count": null,
            "_view_module": "@jupyter-widgets/base",
            "_view_module_version": "1.2.0",
            "_view_name": "StyleView",
            "bar_color": null,
            "description_width": ""
          }
        },
        "2f8006744d564a2c93f4ffa94a678504": {
          "model_module": "@jupyter-widgets/base",
          "model_name": "LayoutModel",
          "model_module_version": "1.2.0",
          "state": {
            "_model_module": "@jupyter-widgets/base",
            "_model_module_version": "1.2.0",
            "_model_name": "LayoutModel",
            "_view_count": null,
            "_view_module": "@jupyter-widgets/base",
            "_view_module_version": "1.2.0",
            "_view_name": "LayoutView",
            "align_content": null,
            "align_items": null,
            "align_self": null,
            "border": null,
            "bottom": null,
            "display": null,
            "flex": null,
            "flex_flow": null,
            "grid_area": null,
            "grid_auto_columns": null,
            "grid_auto_flow": null,
            "grid_auto_rows": null,
            "grid_column": null,
            "grid_gap": null,
            "grid_row": null,
            "grid_template_areas": null,
            "grid_template_columns": null,
            "grid_template_rows": null,
            "height": null,
            "justify_content": null,
            "justify_items": null,
            "left": null,
            "margin": null,
            "max_height": null,
            "max_width": null,
            "min_height": null,
            "min_width": null,
            "object_fit": null,
            "object_position": null,
            "order": null,
            "overflow": null,
            "overflow_x": null,
            "overflow_y": null,
            "padding": null,
            "right": null,
            "top": null,
            "visibility": null,
            "width": null
          }
        },
        "4bb17b7d210b445592731dccaf79497e": {
          "model_module": "@jupyter-widgets/controls",
          "model_name": "DescriptionStyleModel",
          "model_module_version": "1.5.0",
          "state": {
            "_model_module": "@jupyter-widgets/controls",
            "_model_module_version": "1.5.0",
            "_model_name": "DescriptionStyleModel",
            "_view_count": null,
            "_view_module": "@jupyter-widgets/base",
            "_view_module_version": "1.2.0",
            "_view_name": "StyleView",
            "description_width": ""
          }
        },
        "e42aa4c41e234d9cb436f0d75c50ff75": {
          "model_module": "@jupyter-widgets/controls",
          "model_name": "HBoxModel",
          "model_module_version": "1.5.0",
          "state": {
            "_dom_classes": [],
            "_model_module": "@jupyter-widgets/controls",
            "_model_module_version": "1.5.0",
            "_model_name": "HBoxModel",
            "_view_count": null,
            "_view_module": "@jupyter-widgets/controls",
            "_view_module_version": "1.5.0",
            "_view_name": "HBoxView",
            "box_style": "",
            "children": [
              "IPY_MODEL_6de6b121b6474df09fc9b9ad2bfa7483",
              "IPY_MODEL_9f444b3e3e1b464c9cb628d4da0d053c",
              "IPY_MODEL_f1d045e63a2a4f6d9e99f975762d102d"
            ],
            "layout": "IPY_MODEL_1a4e7be2d89f411eb6c01126524e22a5"
          }
        },
        "6de6b121b6474df09fc9b9ad2bfa7483": {
          "model_module": "@jupyter-widgets/controls",
          "model_name": "HTMLModel",
          "model_module_version": "1.5.0",
          "state": {
            "_dom_classes": [],
            "_model_module": "@jupyter-widgets/controls",
            "_model_module_version": "1.5.0",
            "_model_name": "HTMLModel",
            "_view_count": null,
            "_view_module": "@jupyter-widgets/controls",
            "_view_module_version": "1.5.0",
            "_view_name": "HTMLView",
            "description": "",
            "description_tooltip": null,
            "layout": "IPY_MODEL_945828a81bd445618efc8958004027dd",
            "placeholder": "​",
            "style": "IPY_MODEL_3da2cafbaf874327b874233eefcd6a33",
            "value": "100%"
          }
        },
        "9f444b3e3e1b464c9cb628d4da0d053c": {
          "model_module": "@jupyter-widgets/controls",
          "model_name": "FloatProgressModel",
          "model_module_version": "1.5.0",
          "state": {
            "_dom_classes": [],
            "_model_module": "@jupyter-widgets/controls",
            "_model_module_version": "1.5.0",
            "_model_name": "FloatProgressModel",
            "_view_count": null,
            "_view_module": "@jupyter-widgets/controls",
            "_view_module_version": "1.5.0",
            "_view_name": "ProgressView",
            "bar_style": "success",
            "description": "",
            "description_tooltip": null,
            "layout": "IPY_MODEL_87f546d197054d2ab3cb84c0ee26c1c1",
            "max": 4542,
            "min": 0,
            "orientation": "horizontal",
            "style": "IPY_MODEL_dc9bee44aa8647b496835db57b661766",
            "value": 4542
          }
        },
        "f1d045e63a2a4f6d9e99f975762d102d": {
          "model_module": "@jupyter-widgets/controls",
          "model_name": "HTMLModel",
          "model_module_version": "1.5.0",
          "state": {
            "_dom_classes": [],
            "_model_module": "@jupyter-widgets/controls",
            "_model_module_version": "1.5.0",
            "_model_name": "HTMLModel",
            "_view_count": null,
            "_view_module": "@jupyter-widgets/controls",
            "_view_module_version": "1.5.0",
            "_view_name": "HTMLView",
            "description": "",
            "description_tooltip": null,
            "layout": "IPY_MODEL_065a30439f8649cb864bd1425b59781d",
            "placeholder": "​",
            "style": "IPY_MODEL_eae8adfcf42149868e687c434cb5e7f5",
            "value": " 4542/4542 [00:00&lt;00:00, 95288.38it/s]"
          }
        },
        "1a4e7be2d89f411eb6c01126524e22a5": {
          "model_module": "@jupyter-widgets/base",
          "model_name": "LayoutModel",
          "model_module_version": "1.2.0",
          "state": {
            "_model_module": "@jupyter-widgets/base",
            "_model_module_version": "1.2.0",
            "_model_name": "LayoutModel",
            "_view_count": null,
            "_view_module": "@jupyter-widgets/base",
            "_view_module_version": "1.2.0",
            "_view_name": "LayoutView",
            "align_content": null,
            "align_items": null,
            "align_self": null,
            "border": null,
            "bottom": null,
            "display": null,
            "flex": null,
            "flex_flow": null,
            "grid_area": null,
            "grid_auto_columns": null,
            "grid_auto_flow": null,
            "grid_auto_rows": null,
            "grid_column": null,
            "grid_gap": null,
            "grid_row": null,
            "grid_template_areas": null,
            "grid_template_columns": null,
            "grid_template_rows": null,
            "height": null,
            "justify_content": null,
            "justify_items": null,
            "left": null,
            "margin": null,
            "max_height": null,
            "max_width": null,
            "min_height": null,
            "min_width": null,
            "object_fit": null,
            "object_position": null,
            "order": null,
            "overflow": null,
            "overflow_x": null,
            "overflow_y": null,
            "padding": null,
            "right": null,
            "top": null,
            "visibility": null,
            "width": null
          }
        },
        "945828a81bd445618efc8958004027dd": {
          "model_module": "@jupyter-widgets/base",
          "model_name": "LayoutModel",
          "model_module_version": "1.2.0",
          "state": {
            "_model_module": "@jupyter-widgets/base",
            "_model_module_version": "1.2.0",
            "_model_name": "LayoutModel",
            "_view_count": null,
            "_view_module": "@jupyter-widgets/base",
            "_view_module_version": "1.2.0",
            "_view_name": "LayoutView",
            "align_content": null,
            "align_items": null,
            "align_self": null,
            "border": null,
            "bottom": null,
            "display": null,
            "flex": null,
            "flex_flow": null,
            "grid_area": null,
            "grid_auto_columns": null,
            "grid_auto_flow": null,
            "grid_auto_rows": null,
            "grid_column": null,
            "grid_gap": null,
            "grid_row": null,
            "grid_template_areas": null,
            "grid_template_columns": null,
            "grid_template_rows": null,
            "height": null,
            "justify_content": null,
            "justify_items": null,
            "left": null,
            "margin": null,
            "max_height": null,
            "max_width": null,
            "min_height": null,
            "min_width": null,
            "object_fit": null,
            "object_position": null,
            "order": null,
            "overflow": null,
            "overflow_x": null,
            "overflow_y": null,
            "padding": null,
            "right": null,
            "top": null,
            "visibility": null,
            "width": null
          }
        },
        "3da2cafbaf874327b874233eefcd6a33": {
          "model_module": "@jupyter-widgets/controls",
          "model_name": "DescriptionStyleModel",
          "model_module_version": "1.5.0",
          "state": {
            "_model_module": "@jupyter-widgets/controls",
            "_model_module_version": "1.5.0",
            "_model_name": "DescriptionStyleModel",
            "_view_count": null,
            "_view_module": "@jupyter-widgets/base",
            "_view_module_version": "1.2.0",
            "_view_name": "StyleView",
            "description_width": ""
          }
        },
        "87f546d197054d2ab3cb84c0ee26c1c1": {
          "model_module": "@jupyter-widgets/base",
          "model_name": "LayoutModel",
          "model_module_version": "1.2.0",
          "state": {
            "_model_module": "@jupyter-widgets/base",
            "_model_module_version": "1.2.0",
            "_model_name": "LayoutModel",
            "_view_count": null,
            "_view_module": "@jupyter-widgets/base",
            "_view_module_version": "1.2.0",
            "_view_name": "LayoutView",
            "align_content": null,
            "align_items": null,
            "align_self": null,
            "border": null,
            "bottom": null,
            "display": null,
            "flex": null,
            "flex_flow": null,
            "grid_area": null,
            "grid_auto_columns": null,
            "grid_auto_flow": null,
            "grid_auto_rows": null,
            "grid_column": null,
            "grid_gap": null,
            "grid_row": null,
            "grid_template_areas": null,
            "grid_template_columns": null,
            "grid_template_rows": null,
            "height": null,
            "justify_content": null,
            "justify_items": null,
            "left": null,
            "margin": null,
            "max_height": null,
            "max_width": null,
            "min_height": null,
            "min_width": null,
            "object_fit": null,
            "object_position": null,
            "order": null,
            "overflow": null,
            "overflow_x": null,
            "overflow_y": null,
            "padding": null,
            "right": null,
            "top": null,
            "visibility": null,
            "width": null
          }
        },
        "dc9bee44aa8647b496835db57b661766": {
          "model_module": "@jupyter-widgets/controls",
          "model_name": "ProgressStyleModel",
          "model_module_version": "1.5.0",
          "state": {
            "_model_module": "@jupyter-widgets/controls",
            "_model_module_version": "1.5.0",
            "_model_name": "ProgressStyleModel",
            "_view_count": null,
            "_view_module": "@jupyter-widgets/base",
            "_view_module_version": "1.2.0",
            "_view_name": "StyleView",
            "bar_color": null,
            "description_width": ""
          }
        },
        "065a30439f8649cb864bd1425b59781d": {
          "model_module": "@jupyter-widgets/base",
          "model_name": "LayoutModel",
          "model_module_version": "1.2.0",
          "state": {
            "_model_module": "@jupyter-widgets/base",
            "_model_module_version": "1.2.0",
            "_model_name": "LayoutModel",
            "_view_count": null,
            "_view_module": "@jupyter-widgets/base",
            "_view_module_version": "1.2.0",
            "_view_name": "LayoutView",
            "align_content": null,
            "align_items": null,
            "align_self": null,
            "border": null,
            "bottom": null,
            "display": null,
            "flex": null,
            "flex_flow": null,
            "grid_area": null,
            "grid_auto_columns": null,
            "grid_auto_flow": null,
            "grid_auto_rows": null,
            "grid_column": null,
            "grid_gap": null,
            "grid_row": null,
            "grid_template_areas": null,
            "grid_template_columns": null,
            "grid_template_rows": null,
            "height": null,
            "justify_content": null,
            "justify_items": null,
            "left": null,
            "margin": null,
            "max_height": null,
            "max_width": null,
            "min_height": null,
            "min_width": null,
            "object_fit": null,
            "object_position": null,
            "order": null,
            "overflow": null,
            "overflow_x": null,
            "overflow_y": null,
            "padding": null,
            "right": null,
            "top": null,
            "visibility": null,
            "width": null
          }
        },
        "eae8adfcf42149868e687c434cb5e7f5": {
          "model_module": "@jupyter-widgets/controls",
          "model_name": "DescriptionStyleModel",
          "model_module_version": "1.5.0",
          "state": {
            "_model_module": "@jupyter-widgets/controls",
            "_model_module_version": "1.5.0",
            "_model_name": "DescriptionStyleModel",
            "_view_count": null,
            "_view_module": "@jupyter-widgets/base",
            "_view_module_version": "1.2.0",
            "_view_name": "StyleView",
            "description_width": ""
          }
        }
      }
    }
  },
  "nbformat": 4,
  "nbformat_minor": 0
}
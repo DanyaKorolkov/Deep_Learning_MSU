{
  "cells": [
    {
      "cell_type": "markdown",
      "metadata": {
        "id": "61REZNqZJM4i"
      },
      "source": [
        "## Домашнее задание №1"
      ]
    },
    {
      "cell_type": "code",
      "execution_count": null,
      "metadata": {
        "id": "qKGEk2qFJM4k"
      },
      "outputs": [],
      "source": [
        "import numpy as np\n",
        "import json\n",
        "import re"
      ]
    },
    {
      "cell_type": "markdown",
      "metadata": {
        "id": "TvvnFe_KJM4l"
      },
      "source": [
        "### Задача № 1\n",
        "Импортируйте `torch` и сохраните его версию в переменную version"
      ]
    },
    {
      "cell_type": "code",
      "execution_count": null,
      "metadata": {
        "id": "mNixy5tGJM4m"
      },
      "outputs": [],
      "source": [
        "import torch\n",
        "from torch import nn\n",
        "\n",
        "version = torch.__version__\n",
        "\n",
        "# do not change the code in the block below\n",
        "# __________start of block__________\n",
        "assert version is not None, 'Please, save torch version'\n",
        "version = re.findall(\"\\d+\\.\\d+\", version)[0]\n",
        "assert version > '1.7', 'Please, update PyTorch'\n",
        "# __________end of block__________"
      ]
    },
    {
      "cell_type": "markdown",
      "metadata": {
        "id": "QGEkRNqXJM4n"
      },
      "source": [
        "Теперь импортируйте модуль `nn` и внутри функции `create_model` постройте нейронную сеть из трех линейных слоев, последовательно отображающих данные в промежуточные (скрытые) представления размерностей 256, 16 и 10. Не забывайте о свободном члене (bias).\n",
        "\n",
        "Исходные данные имеют размерность 784. В качестве функций активации используйте ReLU."
      ]
    },
    {
      "cell_type": "code",
      "source": [
        "print(nn.Module.__doc__)"
      ],
      "metadata": {
        "colab": {
          "base_uri": "https://localhost:8080/"
        },
        "id": "zLModjqzXLq0",
        "outputId": "60b65232-a53d-48f6-be1f-bffe56c793d4"
      },
      "execution_count": null,
      "outputs": [
        {
          "output_type": "stream",
          "name": "stdout",
          "text": [
            "Base class for all neural network modules.\n",
            "\n",
            "    Your models should also subclass this class.\n",
            "\n",
            "    Modules can also contain other Modules, allowing to nest them in\n",
            "    a tree structure. You can assign the submodules as regular attributes::\n",
            "\n",
            "        import torch.nn as nn\n",
            "        import torch.nn.functional as F\n",
            "\n",
            "        class Model(nn.Module):\n",
            "            def __init__(self):\n",
            "                super(Model, self).__init__()\n",
            "                self.conv1 = nn.Conv2d(1, 20, 5)\n",
            "                self.conv2 = nn.Conv2d(20, 20, 5)\n",
            "\n",
            "            def forward(self, x):\n",
            "                x = F.relu(self.conv1(x))\n",
            "                return F.relu(self.conv2(x))\n",
            "\n",
            "    Submodules assigned in this way will be registered, and will have their\n",
            "    parameters converted too when you call :meth:`to`, etc.\n",
            "\n",
            "    :ivar training: Boolean represents whether this module is in training or\n",
            "                    evaluation mode.\n",
            "    :vartype training: bool\n",
            "    \n"
          ]
        }
      ]
    },
    {
      "cell_type": "code",
      "execution_count": null,
      "metadata": {
        "id": "DeTyR1k0JM4n"
      },
      "outputs": [],
      "source": [
        "def create_model():\n",
        "    # Linear layer mapping from 784 features, so it should be 784->256->16->10\n",
        "    create_model = nn.Sequential()\n",
        "\n",
        "    create_model.add_module('linear1', nn.Linear(784, 256, bias = True))\n",
        "    create_model.add_module('relu1', nn.ReLU())\n",
        "\n",
        "    create_model.add_module('linear2', nn.Linear(256, 16, bias = True))\n",
        "    create_model.add_module('relu2', nn.ReLU())\n",
        "\n",
        "    create_model.add_module('linear3', nn.Linear(16, 10, bias = True))\n",
        "\n",
        "\n",
        "    return create_model\n",
        "\n",
        "\n",
        "model = create_model()\n",
        "# do not change the code in the block below\n",
        "# __________start of block__________\n",
        "for param in model.parameters():\n",
        "    nn.init.constant_(param, 1.)\n",
        "\n",
        "assert torch.allclose(model(torch.ones((1, 784))), torch.ones((1, 10)) * 3215377.), 'Check the network structure'\n",
        "\n",
        "# __________end of block__________"
      ]
    },
    {
      "cell_type": "markdown",
      "metadata": {
        "id": "pIhqYya7JM4o"
      },
      "source": [
        "Скопируйте функцию `create_model` в `submission_template` для последующей сдачи задания."
      ]
    },
    {
      "cell_type": "markdown",
      "metadata": {
        "id": "DIljxM9yJM4o"
      },
      "source": [
        "### Задача №2\n",
        "Реализуйте функцию для подсчета количества параметров в модели (вам может помочь `model.parameters()`).\n",
        "\n",
        "На вход она принимает модель, на выход возвращает одно число – количество параметров в модели. Для вашего удобства доступно несколько тестов ниже."
      ]
    },
    {
      "cell_type": "code",
      "execution_count": null,
      "metadata": {
        "id": "7IyNpxeSJM4o",
        "colab": {
          "base_uri": "https://localhost:8080/"
        },
        "outputId": "81c22367-db98-49af-e7d8-5ab9119f9495"
      },
      "outputs": [
        {
          "output_type": "stream",
          "name": "stdout",
          "text": [
            "Seems fine!\n"
          ]
        }
      ],
      "source": [
        "def count_parameters(model):\n",
        "\n",
        "  counter = 0\n",
        "  for i in model.parameters():\n",
        "    counter += np.prod(i.size())\n",
        "\n",
        "  return counter\n",
        "\n",
        "\n",
        "# do not change the code in the block below\n",
        "# __________start of block__________\n",
        "small_model = nn.Linear(128, 256)\n",
        "assert count_parameters(small_model) == 128 * 256 + 256, 'Check the function'\n",
        "\n",
        "medium_model = nn.Sequential(*[nn.Linear(128, 32, bias=False), nn.ReLU(), nn.Linear(32, 10, bias=False)])\n",
        "assert count_parameters(medium_model) == 128 * 32 + 32 * 10, 'Check the function'\n",
        "print(\"Seems fine!\")\n",
        "# __________end of block__________"
      ]
    },
    {
      "cell_type": "markdown",
      "metadata": {
        "id": "sq7mQd3MJM4p"
      },
      "source": [
        "Скопируйте функцию `count_parameters` в `submission_template01.py` для последующей сдачи задания.\n",
        "Отправьте `submission_template01.py` в Яндекс.Контест."
      ]
    },
    {
      "cell_type": "markdown",
      "metadata": {
        "id": "scy_9a70JM4q"
      },
      "source": [
        "На этом первое домашнее задание завершено. Поздравляем!"
      ]
    }
  ],
  "metadata": {
    "kernelspec": {
      "display_name": "Py3 Research",
      "language": "python",
      "name": "py3_research_kernel"
    },
    "language_info": {
      "codemirror_mode": {
        "name": "ipython",
        "version": 3
      },
      "file_extension": ".py",
      "mimetype": "text/x-python",
      "name": "python",
      "nbconvert_exporter": "python",
      "pygments_lexer": "ipython3",
      "version": "3.9.7"
    },
    "colab": {
      "provenance": []
    }
  },
  "nbformat": 4,
  "nbformat_minor": 0
}
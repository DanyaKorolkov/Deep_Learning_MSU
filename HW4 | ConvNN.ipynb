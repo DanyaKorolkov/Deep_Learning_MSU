{
  "cells": [
    {
      "cell_type": "markdown",
      "metadata": {
        "id": "FgzQ5bscUnsm"
      },
      "source": [
        "# Домашнее задание №4\n",
        "\n",
        "##### Автор: [Татьяна Гайнцева](https://www.linkedin.com/in/tgaintseva/), @atmyre"
      ]
    },
    {
      "cell_type": "code",
      "execution_count": null,
      "metadata": {
        "id": "dlo1UHiNUnsp"
      },
      "outputs": [],
      "source": [
        "import numpy as np\n",
        "\n",
        "import torch\n",
        "from torch import nn\n",
        "from torch.nn import functional as F\n",
        "\n",
        "import torchvision\n",
        "from torchvision import datasets, transforms\n",
        "\n",
        "from matplotlib import pyplot as plt\n",
        "from IPython.display import clear_output"
      ]
    },
    {
      "cell_type": "markdown",
      "source": [
        "Это домашнее задание состоит из двух частей. В первой части вам нужно реализовать правильную архитектуру сверточной нейросети. Во второй части — подобрать хорошую архитектуру и обучить ее на датасете CIFAR так, чтобы результаты метрики accuracy на тестовой части CIFAR были больше 55%"
      ],
      "metadata": {
        "id": "vdRDK1t0Wgxy"
      }
    },
    {
      "cell_type": "markdown",
      "source": [
        "## Задача №1:\n",
        "В этом задании вам нужно заполнить пропуски в ячейке ниже, чтобы получилась сверточная нейросеть с заданными параметрами."
      ],
      "metadata": {
        "id": "GmVeuJosbxFD"
      }
    },
    {
      "cell_type": "markdown",
      "source": [
        "Архитектура сети:\n",
        "**conv1 -> maxpool1 -> conv2 -> maxpool2 -> flatten -> fc1 -> fc2**\n",
        "\n",
        "- conv1: 3 фильтра размера (5, 5);\n",
        "- maxpool1: ядро размера 2;\n",
        "- conv2: 5 фильтров размера (3, 3);\n",
        "- maxpool2: ядро размера 2;\n",
        "- fc1: 100 нейронов на выходе;\n",
        "- fc2: 10 нейронов на выходе.\n",
        "\n",
        "После сверточных слоев и первого полносвязного слоя нужно применить функцию активации ReLU с помощью F.ReLU\n",
        "\n",
        "**Нейросеть должна работать с изображениями размера 32х32**."
      ],
      "metadata": {
        "id": "QwGlvTT-b5tW"
      }
    },
    {
      "cell_type": "code",
      "source": [
        "import numpy as np\n",
        "import torch\n",
        "from torch import nn\n",
        "from torch.nn import functional as F\n",
        "\n",
        "class ConvNet(nn.Module):\n",
        "    def __init__(self):\n",
        "\n",
        "        super().__init__()\n",
        "\n",
        "        self.conv1 = nn.Conv2d(in_channels=3, out_channels=3, kernel_size=(5,5)) #28x28\n",
        "        self.pool1 = nn.MaxPool2d(kernel_size=(2,2)) #14x14\n",
        "        self.conv2 = nn.Conv2d(in_channels = 3, out_channels = 5, kernel_size = (3, 3)) #12x12\n",
        "        self.pool2 = nn.MaxPool2d(kernel_size=(2,2)) # 6x6\n",
        "\n",
        "        self.flatten = nn.Flatten()\n",
        "\n",
        "        self.fc1 = nn.Linear(6 * 6 * 5, 100)\n",
        "        self.fc2 = nn.Linear(100, 10)\n",
        "\n",
        "\n",
        "    def forward(self, x):\n",
        "        x = F.relu(self.conv1(x))\n",
        "        x = self.pool1(x)\n",
        "        x = F.relu(self.conv2(x))\n",
        "        x = self.pool2(x)\n",
        "\n",
        "        x = self.flatten(x)\n",
        "\n",
        "        x = F.relu(self.fc1(x))\n",
        "        x = self.fc2(x)\n",
        "\n",
        "        return x\n",
        "\n",
        "def create_model():\n",
        "    return ConvNet()"
      ],
      "metadata": {
        "id": "zEQy7-AEb9--"
      },
      "execution_count": null,
      "outputs": []
    },
    {
      "cell_type": "markdown",
      "source": [
        "### Проверка"
      ],
      "metadata": {
        "id": "0nouGfm_gDFD"
      }
    },
    {
      "cell_type": "markdown",
      "source": [
        "Ячейки ниже помогут проверить, что модель написана и работает правильно."
      ],
      "metadata": {
        "id": "TMWATEWKgFgp"
      }
    },
    {
      "cell_type": "code",
      "source": [
        "# Эта ячейка не должна выдавать ошибку.\n",
        "# Если при исполнении ячейки возникает ошибка, то в вашей реализации нейросети есть баги.\n",
        "img = torch.Tensor(np.random.random((32, 3, 32, 32)))\n",
        "model = ConvNet()\n",
        "out = model(img)"
      ],
      "metadata": {
        "id": "xVbCt6AffvNp"
      },
      "execution_count": null,
      "outputs": []
    },
    {
      "cell_type": "markdown",
      "source": [
        "Ячейка ниже проверяет, что устройство сети верное."
      ],
      "metadata": {
        "id": "HmVRmDEfgdoH"
      }
    },
    {
      "cell_type": "code",
      "source": [
        "# conv1\n",
        "assert model.conv1.kernel_size == (5, 5), \"неверный размер ядра у conv1\"\n",
        "assert model.conv1.in_channels == 3, \"неверный размер in_channels у conv1\"\n",
        "assert model.conv1.out_channels == 3, \"неверный размер out_channels у conv1\"\n",
        "\n",
        "# pool1\n",
        "assert model.pool1.kernel_size == (2, 2), \"неверный размер ядра у pool1\"\n",
        "\n",
        "# conv2\n",
        "assert model.conv2.kernel_size == (3, 3), \"неверный размер ядра у conv2\"\n",
        "assert model.conv2.in_channels == 3, \"неверный размер in_channels у conv2\"\n",
        "assert model.conv2.out_channels == 5, \"неверный размер out_channels у conv2\"\n",
        "\n",
        "# pool2\n",
        "assert model.pool1.kernel_size == (2, 2), \"неверный размер ядра у pool2\"\n",
        "\n",
        "# fc1\n",
        "assert model.fc1.out_features == 100, \"неверный размер out_features у fc1\"\n",
        "# fc2\n",
        "assert model.fc2.out_features == 10, \"неверный размер out_features у fc2\""
      ],
      "metadata": {
        "id": "iZ_t7mCDesVU"
      },
      "execution_count": null,
      "outputs": []
    },
    {
      "cell_type": "markdown",
      "source": [
        "### Сдача задания"
      ],
      "metadata": {
        "id": "dtKvuJRHqM_d"
      }
    },
    {
      "cell_type": "markdown",
      "source": [
        "Если обе ячейки отработали без ошибок, можно сдавать задание в первую задачу на Я.Контесте.\n",
        "Для этого нужно скопировать класс ConvNet в нужное место в `submission_template04.py` и отправить `submission_template04.py` в Я.Контест."
      ],
      "metadata": {
        "id": "QybQ4rtQgppH"
      }
    },
    {
      "cell_type": "markdown",
      "metadata": {
        "id": "obC9bnWsUnsr"
      },
      "source": [
        "## Задача №2:\n",
        "Вернемся к задаче классификации картинок [CIFAR](https://www.cs.toronto.edu/~kriz/cifar.html).\n",
        "\n",
        "__Ваша основная задача: реализовать весь пайплан обучения модели и добиться хорошего значения метрики accuracy на тестовой выборке.__\n",
        "Баллы за задание:\n",
        "- **0**, если accuracy на тестовой выборке <0.5;\n",
        "- **0.5**, если accuracy на тестовой выборке >0.5 и <0.56;\n",
        "- **1**, если accuracy на тестовой выборке >0.56;\n",
        "\n",
        "Код для обучения модели в данном задании полностью реализован. Вам нужно лишь написать код класса нейросети и поэкспериментировать с параметрами так, чтобы получить хорошее качество. В качестве основы архитектуры сети можно взять сеть из задачи №1."
      ]
    },
    {
      "cell_type": "markdown",
      "source": [
        "**! Перед выполнением этого задания рекомендуем включить GPU в настройках колаба.** Это поможет обучать нейросеть быстрее.\n",
        "\n",
        "Чтобы включить GPU, перейдите Edit->Notebook settings и выберите Hardware accelerator=GPU. Нажмите save."
      ],
      "metadata": {
        "id": "izGM3kjrhbCk"
      }
    },
    {
      "cell_type": "code",
      "source": [
        "import numpy as np\n",
        "\n",
        "import torch\n",
        "from torch import nn\n",
        "from torch.nn import functional as F\n",
        "\n",
        "import torchvision\n",
        "from torchvision import datasets, transforms\n",
        "\n",
        "from matplotlib import pyplot as plt\n",
        "from IPython.display import clear_output"
      ],
      "metadata": {
        "id": "ZUgd4OiDh4EP"
      },
      "execution_count": null,
      "outputs": []
    },
    {
      "cell_type": "markdown",
      "source": [
        "### Загрузка данных"
      ],
      "metadata": {
        "id": "i5VkRn8eYCL3"
      }
    },
    {
      "cell_type": "markdown",
      "source": [
        "Код загрузки данных тот же, что был на занятии. Менять ничего не нужно."
      ],
      "metadata": {
        "id": "w5-HED1XYV96"
      }
    },
    {
      "cell_type": "code",
      "execution_count": null,
      "metadata": {
        "id": "-31e0aCCUnss",
        "outputId": "11b4bc58-6a8d-4c08-f916-f3c5709dd001",
        "colab": {
          "base_uri": "https://localhost:8080/",
          "height": 98,
          "referenced_widgets": [
            "dd462ab47c7a47ddba0b1483e852839a",
            "d97140c940fd4df69fe6ce5fe8e9304a",
            "54d302e01a70462e94a991ef184768d6",
            "7aed71638bf44f9398f16f04ef2e0c32",
            "a5098fc9f0be43f3b9a95aad573aac7c",
            "3e3b4a3b01304bdd9b4cbd5419b545b1",
            "584adc24851a49ec8c201062cba57ec4",
            "de6cc794afeb4160b5670a06b7e9f221",
            "8ce1428db9734e70aff97b8fc573ea23",
            "78e1eaa1a6f44f13b5bc0a632528acbb",
            "318ce4e844fb4dbf89ecc72bea9d237d"
          ]
        }
      },
      "outputs": [
        {
          "output_type": "stream",
          "name": "stdout",
          "text": [
            "Downloading https://www.cs.toronto.edu/~kriz/cifar-10-python.tar.gz to ./cifar10_data/cifar-10-python.tar.gz\n"
          ]
        },
        {
          "output_type": "display_data",
          "data": {
            "text/plain": [
              "  0%|          | 0/170498071 [00:00<?, ?it/s]"
            ],
            "application/vnd.jupyter.widget-view+json": {
              "version_major": 2,
              "version_minor": 0,
              "model_id": "dd462ab47c7a47ddba0b1483e852839a"
            }
          },
          "metadata": {}
        },
        {
          "output_type": "stream",
          "name": "stdout",
          "text": [
            "Extracting ./cifar10_data/cifar-10-python.tar.gz to ./cifar10_data\n",
            "Files already downloaded and verified\n"
          ]
        }
      ],
      "source": [
        "# загружаем датасет из torchvision\n",
        "train_data = datasets.CIFAR10(root=\"./cifar10_data\", train=True, download=True, transform=transforms.ToTensor())\n",
        "test_data = datasets.CIFAR10(root=\"./cifar10_data\", train=False, download=True, transform=transforms.ToTensor())\n",
        "\n",
        "# делим тренировочную часть на train и val\n",
        "\n",
        "# в тренировочную выборку отнесем 80% всех картинок\n",
        "train_size = int(len(train_data) * 0.8)\n",
        "# в валидационную — остальные 20%\n",
        "val_size = len(train_data) - train_size\n",
        "\n",
        "train_data, val_data = torch.utils.data.random_split(train_data, [train_size, val_size])\n",
        "\n",
        "# заводим даталоадеры, которые будут генерировать батчи\n",
        "train_loader = torch.utils.data.DataLoader(train_data, batch_size=64, shuffle=True)\n",
        "val_loader = torch.utils.data.DataLoader(val_data, batch_size=64, shuffle=False)\n",
        "test_loader = torch.utils.data.DataLoader(test_data, batch_size=64, shuffle=False)"
      ]
    },
    {
      "cell_type": "markdown",
      "source": [
        "Посмотрим на несколько картинок из датасета:"
      ],
      "metadata": {
        "id": "3xJCM2lZYjtR"
      }
    },
    {
      "cell_type": "code",
      "source": [
        "# функция отрисовки картинок\n",
        "def show_images(images, labels):\n",
        "    f, axes= plt.subplots(1, 10, figsize=(30,5))\n",
        "\n",
        "    for i, axis in enumerate(axes):\n",
        "        # переводим картинку из тензора в numpy\n",
        "        img = images[i].numpy()\n",
        "        # переводим картинку в размерность (длина, ширина, цветовые каналы)\n",
        "        img = np.transpose(img, (1, 2, 0))\n",
        "\n",
        "        axes[i].imshow(img)\n",
        "        axes[i].set_title(labels[i].numpy())\n",
        "\n",
        "    plt.show()\n",
        "\n",
        "# получаем батч картинок\n",
        "for batch in train_loader:\n",
        "    images, labels = batch\n",
        "    break\n",
        "\n",
        "show_images(images, labels)"
      ],
      "metadata": {
        "id": "R7ZBNxsLYvMP",
        "outputId": "7d80e12b-a945-419e-f030-85d441edc1fa",
        "colab": {
          "base_uri": "https://localhost:8080/",
          "height": 157
        }
      },
      "execution_count": null,
      "outputs": [
        {
          "output_type": "display_data",
          "data": {
            "text/plain": [
              "<Figure size 2160x360 with 10 Axes>"
            ],
            "image/png": "[encoded data removed]"
          },
          "metadata": {
            "needs_background": "light"
          }
        }
      ]
    },
    {
      "cell_type": "markdown",
      "source": [
        "### Построение модели"
      ],
      "metadata": {
        "id": "EAbF9VCHifUg"
      }
    },
    {
      "cell_type": "markdown",
      "metadata": {
        "id": "ZN-AYLsyUnsu"
      },
      "source": [
        "Ниже — ячейка для построения модели. Не стоит сразу делать большую и сложную модель с большим количеством слоев: такая сеть будет обучаться очень долго и, скорее всего, переобучится.\n",
        "\n",
        "Ваша основная задача – обучить модель и получить качество на отложенной (тестовой выборке) не менее 56% accuracy.\n",
        "\n",
        "__Внимание: ваша модель должна быть представлена именно переменной `model`.__"
      ]
    },
    {
      "cell_type": "markdown",
      "source": [
        "Идеи, что можно попробовать, чтобы улучшить результат сети:\n",
        "\n",
        "- попробовать разное количество сверточных и полносвязных слоев;\n",
        "- попробовать разное количество фильтров в сверточных слоях;\n",
        "- попробовать разное количество нейронов в скрытых полносвязных слоях;\n",
        "- попробовать добавить/убрать max_pooling;\n",
        "- поменять learning_rate;\n",
        "- обучать сеть большее количество эпох.\n",
        "\n",
        "Если ваша модель переобучается (метрика на валидации нацинает становиться хуже), попробуйте уменьшить количество параметров модели. Если модель не переобучается, но показывает плохой результат, попробуйте увеличить количество параметров модели."
      ],
      "metadata": {
        "id": "QFaM1UeWaE4K"
      }
    },
    {
      "cell_type": "code",
      "source": [
        "model = ConvNet()"
      ],
      "metadata": {
        "id": "MFpILkiXhEz-"
      },
      "execution_count": null,
      "outputs": []
    },
    {
      "cell_type": "markdown",
      "source": [
        "Ячейка ниже проверяет, доступен ли GPU и если да, то переносит нейросеть на GPU."
      ],
      "metadata": {
        "id": "1reimxeCh9BA"
      }
    },
    {
      "cell_type": "code",
      "source": [
        "device = torch.device(\"cuda\" if torch.cuda.is_available() else \"cpu\")\n",
        "model = model.to(device)"
      ],
      "metadata": {
        "id": "keaqEK3ug9rd"
      },
      "execution_count": null,
      "outputs": []
    },
    {
      "cell_type": "markdown",
      "source": [
        "### Обучение модели"
      ],
      "metadata": {
        "id": "iKghv45uiEqo"
      }
    },
    {
      "cell_type": "markdown",
      "metadata": {
        "id": "b2onmgyzUntQ"
      },
      "source": [
        "Функция обучения сети (ее менять не нужно).\n",
        "\n",
        "Функция выводит текущие значения лосса и accuracy на train выборке каждые 50 итераций обучения. Также после каждой эпохи считается и выводится лосс и accuracy на val выборке. По этим значениям можно понимать, как хорошо обучается ваша модель."
      ]
    },
    {
      "cell_type": "code",
      "source": [
        "class ConvNet(nn.Module):\n",
        "    def __init__(self):\n",
        "        super().__init__()\n",
        "\n",
        "        # ВАШ КОД ЗДЕСЬ\n",
        "        # определите слои сети\n",
        "\n",
        "        self.conv1 = nn.Conv2d(in_channels=3, out_channels=6, kernel_size=(3,3)) # 30x30\n",
        "        self.pool1 = nn.MaxPool2d(kernel_size=(2,2)) # 15x15\n",
        "        self.conv2 = nn.Conv2d(in_channels = 6, out_channels = 4, kernel_size = (2, 2)) # 14x14\n",
        "\n",
        "\n",
        "        self.flatten = nn.Flatten()\n",
        "\n",
        "        self.fc1 = nn.Linear(14 * 14 * 4, 225)\n",
        "        self.fc2 = nn.Linear(225, 10)\n",
        "\n",
        "\n",
        "    def forward(self, x):\n",
        "        # размерность х ~ [64, 3, 32, 32]\n",
        "\n",
        "        # ВАШ КОД ЗДЕСЬ\n",
        "        # реализуйте forward pass сети\n",
        "\n",
        "\n",
        "        x = F.relu(self.conv1(x))\n",
        "        x = self.pool1(x)\n",
        "        x = F.relu(self.conv2(x))\n",
        "\n",
        "\n",
        "\n",
        "        x = self.flatten(x)\n",
        "\n",
        "        x = F.relu(self.fc1(x))\n",
        "        x = self.fc2(x)\n",
        "\n",
        "        return x\n",
        "\n",
        "def evaluate(model, dataloader, loss_fn):\n",
        "\n",
        "    losses = []\n",
        "\n",
        "    num_correct = 0\n",
        "    num_elements = 0\n",
        "\n",
        "    for i, batch in enumerate(dataloader):\n",
        "\n",
        "        # так получаем текущий батч\n",
        "        X_batch, y_batch = batch\n",
        "        num_elements += len(y_batch)\n",
        "\n",
        "        with torch.no_grad():\n",
        "            logits = model(X_batch.to(device))\n",
        "\n",
        "            loss = loss_fn(logits, y_batch.to(device))\n",
        "            losses.append(loss.item())\n",
        "\n",
        "            y_pred = torch.argmax(logits, dim=1)\n",
        "\n",
        "            num_correct += torch.sum(y_pred.cpu() == y_batch)\n",
        "\n",
        "    accuracy = num_correct / num_elements\n",
        "\n",
        "    return accuracy.numpy(), np.mean(losses)\n",
        "\n",
        "def train(model, loss_fn, optimizer, n_epoch=3):\n",
        "\n",
        "    # цикл обучения сети\n",
        "    for epoch in range(n_epoch):\n",
        "\n",
        "        print(\"Epoch:\", epoch+1)\n",
        "\n",
        "        model.train(True)\n",
        "\n",
        "        running_losses = []\n",
        "        running_accuracies = []\n",
        "        for i, batch in enumerate(train_loader):\n",
        "            # так получаем текущий батч\n",
        "            X_batch, y_batch = batch\n",
        "\n",
        "            # forward pass (получение ответов на батч картинок)\n",
        "            logits = model(X_batch.to(device))\n",
        "\n",
        "            # вычисление лосса от выданных сетью ответов и правильных ответов на батч\n",
        "            loss = loss_fn(logits, y_batch.to(device))\n",
        "            running_losses.append(loss.item())\n",
        "\n",
        "            loss.backward() # backpropagation (вычисление градиентов)\n",
        "            optimizer.step() # обновление весов сети\n",
        "            optimizer.zero_grad() # обнуляем веса\n",
        "\n",
        "            # вычислим accuracy на текущем train батче\n",
        "            model_answers = torch.argmax(logits, dim=1)\n",
        "            train_accuracy = torch.sum(y_batch == model_answers.cpu()) / len(y_batch)\n",
        "            running_accuracies.append(train_accuracy)\n",
        "\n",
        "            # Логирование результатов\n",
        "            if (i+1) % 100 == 0:\n",
        "                print(\"Средние train лосс и accuracy на последних 50 итерациях:\",\n",
        "                      np.mean(running_losses), np.mean(running_accuracies), end='\\n')\n",
        "\n",
        "        # после каждой эпохи получаем метрику качества на валидационной выборке\n",
        "        model.train(False)\n",
        "\n",
        "        val_accuracy, val_loss = evaluate(model, val_loader, loss_fn=loss_fn)\n",
        "        print(\"Эпоха {}/{}: val лосс и accuracy:\".format(epoch+1, n_epoch,),\n",
        "                      val_loss, val_accuracy, end='\\n')\n",
        "\n",
        "    return model"
      ],
      "metadata": {
        "id": "1Et9qadNexy7"
      },
      "execution_count": null,
      "outputs": []
    },
    {
      "cell_type": "code",
      "execution_count": null,
      "metadata": {
        "id": "jYsRSxVjUntR",
        "outputId": "1e20f35b-0a5e-4f48-bb18-5ae286b20958",
        "colab": {
          "base_uri": "https://localhost:8080/",
          "height": 1000
        }
      },
      "outputs": [
        {
          "output_type": "stream",
          "name": "stdout",
          "text": [
            "\n",
            "-- l = 0.0009, n = 3 --\n",
            "\n",
            "Epoch: 1\n",
            "Средние train лосс и accuracy на последних 50 итерациях: 2.1248046386241914 0.2090625\n",
            "Средние train лосс и accuracy на последних 50 итерациях: 2.0162513279914855 0.26390624\n",
            "Средние train лосс и accuracy на последних 50 итерациях: 1.9455005713303883 0.29703125\n",
            "Средние train лосс и accuracy на последних 50 итерациях: 1.886161535680294 0.31933594\n",
            "Средние train лосс и accuracy на последних 50 итерациях: 1.8427445492744445 0.335125\n",
            "Средние train лосс и accuracy на последних 50 итерациях: 1.8034891045093537 0.34966147\n",
            "Эпоха 1/3: val лосс и accuracy: 1.6150406128282 0.4147\n",
            "Epoch: 2\n",
            "Средние train лосс и accuracy на последних 50 итерациях: 1.5723774218559265 0.4396875\n",
            "Средние train лосс и accuracy на последних 50 итерациях: 1.5630283844470978 0.43914062\n",
            "Средние train лосс и accuracy на последних 50 итерациях: 1.555587609608968 0.44348958\n",
            "Средние train лосс и accuracy на последних 50 итерациях: 1.551797415614128 0.4453906\n",
            "Средние train лосс и accuracy на последних 50 итерациях: 1.5424932770729065 0.44775\n",
            "Средние train лосс и accuracy на последних 50 итерациях: 1.534893395702044 0.45005208\n",
            "Эпоха 2/3: val лосс и accuracy: 1.5156004489607113 0.4515\n",
            "Epoch: 3\n",
            "Средние train лосс и accuracy на последних 50 итерациях: 1.4770182585716247 0.4834375\n",
            "Средние train лосс и accuracy на последних 50 итерациях: 1.476710849404335 0.47757813\n",
            "Средние train лосс и accuracy на последних 50 итерациях: 1.4655971550941467 0.4790625\n",
            "Средние train лосс и accuracy на последних 50 итерациях: 1.4579747739434241 0.4803125\n",
            "Средние train лосс и accuracy на последних 50 итерациях: 1.4521048510074615 0.48159376\n",
            "Средние train лосс и accuracy на последних 50 итерациях: 1.450300242304802 0.4818229\n",
            "Эпоха 3/3: val лосс и accuracy: 1.4917673107924734 0.4602\n",
            "Accuracy на тесте 0.4722\n",
            "best_acc = 0.4722000062465668, best_l = 0.0009, best_n = 3\n",
            "\n",
            "-- l = 0.0009, n = 4 --\n",
            "\n",
            "Epoch: 1\n",
            "Средние train лосс и accuracy на последних 50 итерациях: 1.405632028579712 0.4975\n",
            "Средние train лосс и accuracy на последних 50 итерациях: 1.3970221108198166 0.5003125\n",
            "Средние train лосс и accuracy на последних 50 итерациях: 1.3988683716456096 0.49828124\n",
            "Средние train лосс и accuracy на последних 50 итерациях: 1.3999761509895325 0.49683595\n",
            "Средние train лосс и accuracy на последних 50 итерациях: 1.4017688789367675 0.496125\n",
            "Средние train лосс и accuracy на последних 50 итерациях: 1.3987305229902267 0.49864584\n",
            "Эпоха 1/4: val лосс и accuracy: 1.4117291155894092 0.4918\n",
            "Epoch: 2\n",
            "Средние train лосс и accuracy на последних 50 итерациях: 1.3623867917060852 0.5125\n",
            "Средние train лосс и accuracy на последних 50 итерациях: 1.3629875195026397 0.5108594\n",
            "Средние train лосс и accuracy на последних 50 итерациях: 1.3569192751248678 0.51359373\n",
            "Средние train лосс и accuracy на последних 50 итерациях: 1.3610056123137475 0.5132812\n",
            "Средние train лосс и accuracy на последних 50 итерациях: 1.3585563323497771 0.5146875\n",
            "Средние train лосс и accuracy на последних 50 итерациях: 1.3544530109564463 0.5155729\n",
            "Эпоха 2/4: val лосс и accuracy: 1.4174385678236652 0.4929\n",
            "Epoch: 3\n",
            "Средние train лосс и accuracy на последних 50 итерациях: 1.3072608709335327 0.535\n",
            "Средние train лосс и accuracy на последних 50 итерациях: 1.3101590299606323 0.531875\n",
            "Средние train лосс и accuracy на последних 50 итерациях: 1.3158238641421 0.5303646\n",
            "Средние train лосс и accuracy на последних 50 итерациях: 1.3137274323403836 0.5310547\n",
            "Средние train лосс и accuracy на последних 50 итерациях: 1.3118939052820207 0.53165627\n",
            "Средние train лосс и accuracy на последних 50 итерациях: 1.3138353060682615 0.5308073\n",
            "Эпоха 3/4: val лосс и accuracy: 1.3545363852932195 0.5152\n",
            "Epoch: 4\n",
            "Средние train лосс и accuracy на последних 50 итерациях: 1.2780423164367676 0.54625\n",
            "Средние train лосс и accuracy на последних 50 итерациях: 1.271831187605858 0.54679686\n",
            "Средние train лосс и accuracy на последних 50 итерациях: 1.2724027047554651 0.5470312\n",
            "Средние train лосс и accuracy на последних 50 итерациях: 1.271134871840477 0.54734373\n",
            "Средние train лосс и accuracy на последних 50 итерациях: 1.2780183913707732 0.5449375\n",
            "Средние train лосс и accuracy на последних 50 итерациях: 1.2781618031859399 0.5446875\n",
            "Эпоха 4/4: val лосс и accuracy: 1.3512105372301333 0.5226\n",
            "Accuracy на тесте 0.525\n",
            "best_acc = 0.5249999761581421, best_l = 0.0009, best_n = 4\n",
            "\n",
            "-- l = 0.0009, n = 5 --\n",
            "\n",
            "Epoch: 1\n",
            "Средние train лосс и accuracy на последних 50 итерациях: 1.216716725230217 0.571875\n",
            "Средние train лосс и accuracy на последних 50 итерациях: 1.2217355033755302 0.5669531\n",
            "Средние train лосс и accuracy на последних 50 итерациях: 1.2316006714105605 0.5626042\n",
            "Средние train лосс и accuracy на последних 50 итерациях: 1.2381293442845345 0.56035155\n",
            "Средние train лосс и accuracy на последних 50 итерациях: 1.2401255056858063 0.55828124\n",
            "Средние train лосс и accuracy на последних 50 итерациях: 1.2415459768970807 0.5576562\n",
            "Эпоха 1/5: val лосс и accuracy: 1.3396851492535538 0.5245\n",
            "Epoch: 2\n",
            "Средние train лосс и accuracy на последних 50 итерациях: 1.2091016781330108 0.5679687\n",
            "Средние train лосс и accuracy на последних 50 итерациях: 1.2055975234508514 0.57078123\n",
            "Средние train лосс и accuracy на последних 50 итерациях: 1.2032823671897253 0.57239586\n",
            "Средние train лосс и accuracy на последних 50 итерациях: 1.206431439369917 0.57039064\n",
            "Средние train лосс и accuracy на последних 50 итерациях: 1.2049012159109116 0.57128125\n",
            "Средние train лосс и accuracy на последних 50 итерациях: 1.2048610199491183 0.57070315\n",
            "Эпоха 2/5: val лосс и accuracy: 1.3308383089721583 0.5303\n",
            "Epoch: 3\n",
            "Средние train лосс и accuracy на последних 50 итерациях: 1.1559953212738037 0.59265625\n",
            "Средние train лосс и accuracy на последних 50 итерациях: 1.1600546923279762 0.5907813\n",
            "Средние train лосс и accuracy на последних 50 итерациях: 1.164448272983233 0.5890625\n",
            "Средние train лосс и accuracy на последних 50 итерациях: 1.1683551064133644 0.58910155\n",
            "Средние train лосс и accuracy на последних 50 итерациях: 1.1703815765380858 0.58753127\n",
            "Средние train лосс и accuracy на последних 50 итерациях: 1.1723960841695467 0.58708334\n",
            "Эпоха 3/5: val лосс и accuracy: 1.3097485759455687 0.5386\n",
            "Epoch: 4\n",
            "Средние train лосс и accuracy на последних 50 итерациях: 1.1187661814689636 0.6015625\n",
            "Средние train лосс и accuracy на последних 50 итерациях: 1.1281338411569595 0.600625\n",
            "Средние train лосс и accuracy на последних 50 итерациях: 1.131059296131134 0.5981771\n",
            "Средние train лосс и accuracy на последних 50 итерациях: 1.1328223039209844 0.59914064\n",
            "Средние train лосс и accuracy на последних 50 итерациях: 1.1332544046640396 0.59825\n",
            "Средние train лосс и accuracy на последних 50 итерациях: 1.1347023884455363 0.5971615\n",
            "Эпоха 4/5: val лосс и accuracy: 1.3185805704942934 0.5398\n",
            "Epoch: 5\n",
            "Средние train лосс и accuracy на последних 50 итерациях: 1.0803415650129318 0.619375\n",
            "Средние train лосс и accuracy на последних 50 итерациях: 1.0845652350783348 0.6145313\n",
            "Средние train лосс и accuracy на последних 50 итерациях: 1.095666438738505 0.61265624\n",
            "Средние train лосс и accuracy на последних 50 итерациях: 1.0965477630496026 0.61339843\n",
            "Средние train лосс и accuracy на последних 50 итерациях: 1.1017280342578888 0.611\n",
            "Средние train лосс и accuracy на последних 50 итерациях: 1.102598737279574 0.6121875\n",
            "Эпоха 5/5: val лосс и accuracy: 1.2947850326064285 0.5485\n",
            "Accuracy на тесте 0.553\n",
            "best_acc = 0.5529999732971191, best_l = 0.0009, best_n = 5\n",
            "\n",
            "-- l = 0.0009, n = 6 --\n",
            "\n",
            "Epoch: 1\n",
            "Средние train лосс и accuracy на последних 50 итерациях: 1.0680614066123963 0.6248438\n",
            "Средние train лосс и accuracy на последних 50 итерациях: 1.0586702433228492 0.62710935\n",
            "Средние train лосс и accuracy на последних 50 итерациях: 1.0631888928016027 0.6276042\n",
            "Средние train лосс и accuracy на последних 50 итерациях: 1.065139125585556 0.62535155\n",
            "Средние train лосс и accuracy на последних 50 итерациях: 1.0604927794933319 0.62746876\n",
            "Средние train лосс и accuracy на последних 50 итерациях: 1.0627322654922804 0.6258854\n",
            "Эпоха 1/6: val лосс и accuracy: 1.279237020547223 0.5635\n",
            "Epoch: 2\n",
            "Средние train лосс и accuracy на последних 50 итерациях: 1.0048829400539399 0.64640623\n",
            "Средние train лосс и accuracy на последних 50 итерациях: 1.019224757552147 0.6396875\n",
            "Средние train лосс и accuracy на последних 50 итерациях: 1.0267385256290436 0.63671875\n",
            "Средние train лосс и accuracy на последних 50 итерациях: 1.0304613429307938 0.635625\n",
            "Средние train лосс и accuracy на последних 50 итерациях: 1.0275421125888824 0.63675\n",
            "Средние train лосс и accuracy на последних 50 итерациях: 1.0273206836978594 0.6366406\n",
            "Эпоха 2/6: val лосс и accuracy: 1.2809267256669938 0.5591\n",
            "Epoch: 3\n",
            "Средние train лосс и accuracy на последних 50 итерациях: 0.9837918478250504 0.6528125\n",
            "Средние train лосс и accuracy на последних 50 итерациях: 0.9820023792982101 0.6542969\n",
            "Средние train лосс и accuracy на последних 50 итерациях: 0.9857383112112681 0.6528125\n",
            "Средние train лосс и accuracy на последних 50 итерациях: 0.9873147827386856 0.65335935\n",
            "Средние train лосс и accuracy на последних 50 итерациях: 0.9909260097742081 0.6509375\n",
            "Средние train лосс и accuracy на последних 50 итерациях: 0.9924557676911354 0.650625\n",
            "Эпоха 3/6: val лосс и accuracy: 1.3049191802170625 0.5589\n",
            "Epoch: 4\n",
            "Средние train лосс и accuracy на последних 50 итерациях: 0.9586786538362503 0.65953124\n",
            "Средние train лосс и accuracy на последних 50 итерациях: 0.95228899538517 0.664375\n",
            "Средние train лосс и accuracy на последних 50 итерациях: 0.95689693013827 0.6610938\n",
            "Средние train лосс и accuracy на последних 50 итерациях: 0.9590445961058139 0.66152346\n",
            "Средние train лосс и accuracy на последних 50 итерациях: 0.9611132682561875 0.65975\n",
            "Средние train лосс и accuracy на последних 50 итерациях: 0.9627539792656898 0.6593229\n",
            "Эпоха 4/6: val лосс и accuracy: 1.280902663993228 0.5661\n",
            "Epoch: 5\n",
            "Средние train лосс и accuracy на последних 50 итерациях: 0.9039572197198867 0.680625\n",
            "Средние train лосс и accuracy на последних 50 итерациях: 0.9065482598543168 0.68015623\n",
            "Средние train лосс и accuracy на последних 50 итерациях: 0.9175801263252894 0.67921877\n",
            "Средние train лосс и accuracy на последних 50 итерациях: 0.9277373130619526 0.6764453\n",
            "Средние train лосс и accuracy на последних 50 итерациях: 0.9293067511320114 0.675375\n",
            "Средние train лосс и accuracy на последних 50 итерациях: 0.9321785662571589 0.6742708\n",
            "Эпоха 5/6: val лосс и accuracy: 1.2915560314609746 0.57\n",
            "Epoch: 6\n",
            "Средние train лосс и accuracy на последних 50 итерациях: 0.8721346086263657 0.6921875\n",
            "Средние train лосс и accuracy на последних 50 итерациях: 0.8713103196024895 0.69289064\n",
            "Средние train лосс и accuracy на последних 50 итерациях: 0.884267869591713 0.68848956\n",
            "Средние train лосс и accuracy на последних 50 итерациях: 0.8902102589607239 0.68789065\n",
            "Средние train лосс и accuracy на последних 50 итерациях: 0.8956574146747589 0.6863125\n",
            "Средние train лосс и accuracy на последних 50 итерациях: 0.8997222366929054 0.68401045\n",
            "Эпоха 6/6: val лосс и accuracy: 1.2888661015565228 0.5641\n",
            "Accuracy на тесте 0.5678\n",
            "best_acc = 0.567799985408783, best_l = 0.0009, best_n = 6\n",
            "\n",
            "-- l = 0.00095, n = 3 --\n",
            "\n",
            "Epoch: 1\n",
            "Средние train лосс и accuracy на последних 50 итерациях: 0.8622008419036865 0.69640625\n",
            "Средние train лосс и accuracy на последних 50 итерациях: 0.8503216218948364 0.7015625\n",
            "Средние train лосс и accuracy на последних 50 итерациях: 0.8581680315732956 0.69880205\n",
            "Средние train лосс и accuracy на последних 50 итерациях: 0.866078011393547 0.695625\n",
            "Средние train лосс и accuracy на последних 50 итерациях: 0.8713750884532928 0.693875\n",
            "Средние train лосс и accuracy на последних 50 итерациях: 0.8718143026034038 0.6942448\n",
            "Эпоха 1/3: val лосс и accuracy: 1.31389259001252 0.562\n",
            "Epoch: 2\n",
            "Средние train лосс и accuracy на последних 50 итерациях: 0.8341221249103546 0.704375\n",
            "Средние train лосс и accuracy на последних 50 итерациях: 0.8362015366554261 0.705625\n",
            "Средние train лосс и accuracy на последних 50 итерациях: 0.8351550773779551 0.7057292\n",
            "Средние train лосс и accuracy на последних 50 итерациях: 0.8379432091116905 0.70625\n",
            "Средние train лосс и accuracy на последних 50 итерациях: 0.8428275175094605 0.70440626\n",
            "Средние train лосс и accuracy на последних 50 итерациях: 0.8409674577911694 0.7053125\n",
            "Эпоха 2/3: val лосс и accuracy: 1.3274848571248874 0.5622\n",
            "Epoch: 3\n",
            "Средние train лосс и accuracy на последних 50 итерациях: 0.7844938933849335 0.7246875\n",
            "Средние train лосс и accuracy на последних 50 итерациях: 0.7873735085129738 0.72515625\n",
            "Средние train лосс и accuracy на последних 50 итерациях: 0.7922496474782625 0.7213021\n",
            "Средние train лосс и accuracy на последних 50 итерациях: 0.797818828895688 0.7184375\n",
            "Средние train лосс и accuracy на последних 50 итерациях: 0.8033593772649765 0.717375\n",
            "Средние train лосс и accuracy на последних 50 итерациях: 0.8116925810774167 0.71528643\n",
            "Эпоха 3/3: val лосс и accuracy: 1.3470206632735624 0.5614\n",
            "Accuracy на тесте 0.5694\n",
            "best_acc = 0.5694000124931335, best_l = 0.00095, best_n = 3\n",
            "\n",
            "-- l = 0.001, n = 3 --\n",
            "\n",
            "Epoch: 1\n",
            "Средние train лосс и accuracy на последних 50 итерациях: 0.7822897922992706 0.726875\n",
            "Средние train лосс и accuracy на последних 50 итерациях: 0.779268030822277 0.7271094\n",
            "Средние train лосс и accuracy на последних 50 итерациях: 0.7798118005196254 0.7284375\n",
            "Средние train лосс и accuracy на последних 50 итерациях: 0.7857397590577603 0.7257031\n",
            "Средние train лосс и accuracy на последних 50 итерациях: 0.7862220243215561 0.72475\n",
            "Средние train лосс и accuracy на последних 50 итерациях: 0.7891682653625807 0.7243229\n",
            "Эпоха 1/3: val лосс и accuracy: 1.3513205730990998 0.5675\n",
            "Epoch: 2\n"
          ]
        },
        {
          "output_type": "error",
          "ename": "KeyboardInterrupt",
          "evalue": "ignored",
          "traceback": [
            "\u001b[0;31m---------------------------------------------------------------------------\u001b[0m",
            "\u001b[0;31mKeyboardInterrupt\u001b[0m                         Traceback (most recent call last)",
            "\u001b[0;32m<ipython-input-18-e383b11d9030>\u001b[0m in \u001b[0;36m<module>\u001b[0;34m\u001b[0m\n\u001b[1;32m     19\u001b[0m     \u001b[0mprint\u001b[0m\u001b[0;34m(\u001b[0m\u001b[0;34mf\"\\n-- l = {l}, n = {n} --\\n\"\u001b[0m\u001b[0;34m)\u001b[0m\u001b[0;34m\u001b[0m\u001b[0;34m\u001b[0m\u001b[0m\n\u001b[1;32m     20\u001b[0m     \u001b[0moptimizer\u001b[0m \u001b[0;34m=\u001b[0m \u001b[0mtorch\u001b[0m\u001b[0;34m.\u001b[0m\u001b[0moptim\u001b[0m\u001b[0;34m.\u001b[0m\u001b[0mAdam\u001b[0m\u001b[0;34m(\u001b[0m\u001b[0mmodel\u001b[0m\u001b[0;34m.\u001b[0m\u001b[0mparameters\u001b[0m\u001b[0;34m(\u001b[0m\u001b[0;34m)\u001b[0m\u001b[0;34m,\u001b[0m \u001b[0mlr\u001b[0m\u001b[0;34m=\u001b[0m\u001b[0ml\u001b[0m\u001b[0;34m)\u001b[0m\u001b[0;34m\u001b[0m\u001b[0;34m\u001b[0m\u001b[0m\n\u001b[0;32m---> 21\u001b[0;31m     \u001b[0mmodel\u001b[0m \u001b[0;34m=\u001b[0m \u001b[0mtrain\u001b[0m\u001b[0;34m(\u001b[0m\u001b[0mmodel\u001b[0m\u001b[0;34m,\u001b[0m \u001b[0mloss_fn\u001b[0m\u001b[0;34m,\u001b[0m \u001b[0moptimizer\u001b[0m\u001b[0;34m,\u001b[0m \u001b[0mn_epoch\u001b[0m\u001b[0;34m=\u001b[0m\u001b[0mn\u001b[0m\u001b[0;34m)\u001b[0m\u001b[0;34m\u001b[0m\u001b[0;34m\u001b[0m\u001b[0m\n\u001b[0m\u001b[1;32m     22\u001b[0m     \u001b[0mtest_accuracy\u001b[0m\u001b[0;34m,\u001b[0m \u001b[0m_\u001b[0m \u001b[0;34m=\u001b[0m \u001b[0mevaluate\u001b[0m\u001b[0;34m(\u001b[0m\u001b[0mmodel\u001b[0m\u001b[0;34m,\u001b[0m \u001b[0mtest_loader\u001b[0m\u001b[0;34m,\u001b[0m \u001b[0mloss_fn\u001b[0m\u001b[0;34m)\u001b[0m\u001b[0;34m\u001b[0m\u001b[0;34m\u001b[0m\u001b[0m\n\u001b[1;32m     23\u001b[0m     \u001b[0mprint\u001b[0m\u001b[0;34m(\u001b[0m\u001b[0;34m'Accuracy на тесте'\u001b[0m\u001b[0;34m,\u001b[0m \u001b[0mtest_accuracy\u001b[0m\u001b[0;34m)\u001b[0m\u001b[0;34m\u001b[0m\u001b[0;34m\u001b[0m\u001b[0m\n",
            "\u001b[0;32m<ipython-input-12-738faa2076ac>\u001b[0m in \u001b[0;36mtrain\u001b[0;34m(model, loss_fn, optimizer, n_epoch)\u001b[0m\n\u001b[1;32m     87\u001b[0m \u001b[0;34m\u001b[0m\u001b[0m\n\u001b[1;32m     88\u001b[0m             \u001b[0mloss\u001b[0m\u001b[0;34m.\u001b[0m\u001b[0mbackward\u001b[0m\u001b[0;34m(\u001b[0m\u001b[0;34m)\u001b[0m \u001b[0;31m# backpropagation (вычисление градиентов)\u001b[0m\u001b[0;34m\u001b[0m\u001b[0;34m\u001b[0m\u001b[0m\n\u001b[0;32m---> 89\u001b[0;31m             \u001b[0moptimizer\u001b[0m\u001b[0;34m.\u001b[0m\u001b[0mstep\u001b[0m\u001b[0;34m(\u001b[0m\u001b[0;34m)\u001b[0m \u001b[0;31m# обновление весов сети\u001b[0m\u001b[0;34m\u001b[0m\u001b[0;34m\u001b[0m\u001b[0m\n\u001b[0m\u001b[1;32m     90\u001b[0m             \u001b[0moptimizer\u001b[0m\u001b[0;34m.\u001b[0m\u001b[0mzero_grad\u001b[0m\u001b[0;34m(\u001b[0m\u001b[0;34m)\u001b[0m \u001b[0;31m# обнуляем веса\u001b[0m\u001b[0;34m\u001b[0m\u001b[0;34m\u001b[0m\u001b[0m\n\u001b[1;32m     91\u001b[0m \u001b[0;34m\u001b[0m\u001b[0m\n",
            "\u001b[0;32m/usr/local/lib/python3.7/dist-packages/torch/optim/optimizer.py\u001b[0m in \u001b[0;36mwrapper\u001b[0;34m(*args, **kwargs)\u001b[0m\n\u001b[1;32m    111\u001b[0m                 \u001b[0mprofile_name\u001b[0m \u001b[0;34m=\u001b[0m \u001b[0;34m\"Optimizer.step#{}.step\"\u001b[0m\u001b[0;34m.\u001b[0m\u001b[0mformat\u001b[0m\u001b[0;34m(\u001b[0m\u001b[0mobj\u001b[0m\u001b[0;34m.\u001b[0m\u001b[0m__class__\u001b[0m\u001b[0;34m.\u001b[0m\u001b[0m__name__\u001b[0m\u001b[0;34m)\u001b[0m\u001b[0;34m\u001b[0m\u001b[0;34m\u001b[0m\u001b[0m\n\u001b[1;32m    112\u001b[0m                 \u001b[0;32mwith\u001b[0m \u001b[0mtorch\u001b[0m\u001b[0;34m.\u001b[0m\u001b[0mautograd\u001b[0m\u001b[0;34m.\u001b[0m\u001b[0mprofiler\u001b[0m\u001b[0;34m.\u001b[0m\u001b[0mrecord_function\u001b[0m\u001b[0;34m(\u001b[0m\u001b[0mprofile_name\u001b[0m\u001b[0;34m)\u001b[0m\u001b[0;34m:\u001b[0m\u001b[0;34m\u001b[0m\u001b[0;34m\u001b[0m\u001b[0m\n\u001b[0;32m--> 113\u001b[0;31m                     \u001b[0;32mreturn\u001b[0m \u001b[0mfunc\u001b[0m\u001b[0;34m(\u001b[0m\u001b[0;34m*\u001b[0m\u001b[0margs\u001b[0m\u001b[0;34m,\u001b[0m \u001b[0;34m**\u001b[0m\u001b[0mkwargs\u001b[0m\u001b[0;34m)\u001b[0m\u001b[0;34m\u001b[0m\u001b[0;34m\u001b[0m\u001b[0m\n\u001b[0m\u001b[1;32m    114\u001b[0m             \u001b[0;32mreturn\u001b[0m \u001b[0mwrapper\u001b[0m\u001b[0;34m\u001b[0m\u001b[0;34m\u001b[0m\u001b[0m\n\u001b[1;32m    115\u001b[0m \u001b[0;34m\u001b[0m\u001b[0m\n",
            "\u001b[0;32m/usr/local/lib/python3.7/dist-packages/torch/autograd/grad_mode.py\u001b[0m in \u001b[0;36mdecorate_context\u001b[0;34m(*args, **kwargs)\u001b[0m\n\u001b[1;32m     25\u001b[0m         \u001b[0;32mdef\u001b[0m \u001b[0mdecorate_context\u001b[0m\u001b[0;34m(\u001b[0m\u001b[0;34m*\u001b[0m\u001b[0margs\u001b[0m\u001b[0;34m,\u001b[0m \u001b[0;34m**\u001b[0m\u001b[0mkwargs\u001b[0m\u001b[0;34m)\u001b[0m\u001b[0;34m:\u001b[0m\u001b[0;34m\u001b[0m\u001b[0;34m\u001b[0m\u001b[0m\n\u001b[1;32m     26\u001b[0m             \u001b[0;32mwith\u001b[0m \u001b[0mself\u001b[0m\u001b[0;34m.\u001b[0m\u001b[0mclone\u001b[0m\u001b[0;34m(\u001b[0m\u001b[0;34m)\u001b[0m\u001b[0;34m:\u001b[0m\u001b[0;34m\u001b[0m\u001b[0;34m\u001b[0m\u001b[0m\n\u001b[0;32m---> 27\u001b[0;31m                 \u001b[0;32mreturn\u001b[0m \u001b[0mfunc\u001b[0m\u001b[0;34m(\u001b[0m\u001b[0;34m*\u001b[0m\u001b[0margs\u001b[0m\u001b[0;34m,\u001b[0m \u001b[0;34m**\u001b[0m\u001b[0mkwargs\u001b[0m\u001b[0;34m)\u001b[0m\u001b[0;34m\u001b[0m\u001b[0;34m\u001b[0m\u001b[0m\n\u001b[0m\u001b[1;32m     28\u001b[0m         \u001b[0;32mreturn\u001b[0m \u001b[0mcast\u001b[0m\u001b[0;34m(\u001b[0m\u001b[0mF\u001b[0m\u001b[0;34m,\u001b[0m \u001b[0mdecorate_context\u001b[0m\u001b[0;34m)\u001b[0m\u001b[0;34m\u001b[0m\u001b[0;34m\u001b[0m\u001b[0m\n\u001b[1;32m     29\u001b[0m \u001b[0;34m\u001b[0m\u001b[0m\n",
            "\u001b[0;32m/usr/local/lib/python3.7/dist-packages/torch/optim/adam.py\u001b[0m in \u001b[0;36mstep\u001b[0;34m(self, closure)\u001b[0m\n\u001b[1;32m    169\u001b[0m                  \u001b[0mmaximize\u001b[0m\u001b[0;34m=\u001b[0m\u001b[0mgroup\u001b[0m\u001b[0;34m[\u001b[0m\u001b[0;34m'maximize'\u001b[0m\u001b[0;34m]\u001b[0m\u001b[0;34m,\u001b[0m\u001b[0;34m\u001b[0m\u001b[0;34m\u001b[0m\u001b[0m\n\u001b[1;32m    170\u001b[0m                  \u001b[0mforeach\u001b[0m\u001b[0;34m=\u001b[0m\u001b[0mgroup\u001b[0m\u001b[0;34m[\u001b[0m\u001b[0;34m'foreach'\u001b[0m\u001b[0;34m]\u001b[0m\u001b[0;34m,\u001b[0m\u001b[0;34m\u001b[0m\u001b[0;34m\u001b[0m\u001b[0m\n\u001b[0;32m--> 171\u001b[0;31m                  capturable=group['capturable'])\n\u001b[0m\u001b[1;32m    172\u001b[0m \u001b[0;34m\u001b[0m\u001b[0m\n\u001b[1;32m    173\u001b[0m         \u001b[0;32mreturn\u001b[0m \u001b[0mloss\u001b[0m\u001b[0;34m\u001b[0m\u001b[0;34m\u001b[0m\u001b[0m\n",
            "\u001b[0;32m/usr/local/lib/python3.7/dist-packages/torch/optim/adam.py\u001b[0m in \u001b[0;36madam\u001b[0;34m(params, grads, exp_avgs, exp_avg_sqs, max_exp_avg_sqs, state_steps, foreach, capturable, amsgrad, beta1, beta2, lr, weight_decay, eps, maximize)\u001b[0m\n\u001b[1;32m    224\u001b[0m          \u001b[0meps\u001b[0m\u001b[0;34m=\u001b[0m\u001b[0meps\u001b[0m\u001b[0;34m,\u001b[0m\u001b[0;34m\u001b[0m\u001b[0;34m\u001b[0m\u001b[0m\n\u001b[1;32m    225\u001b[0m          \u001b[0mmaximize\u001b[0m\u001b[0;34m=\u001b[0m\u001b[0mmaximize\u001b[0m\u001b[0;34m,\u001b[0m\u001b[0;34m\u001b[0m\u001b[0;34m\u001b[0m\u001b[0m\n\u001b[0;32m--> 226\u001b[0;31m          capturable=capturable)\n\u001b[0m\u001b[1;32m    227\u001b[0m \u001b[0;34m\u001b[0m\u001b[0m\n\u001b[1;32m    228\u001b[0m \u001b[0;34m\u001b[0m\u001b[0m\n",
            "\u001b[0;32m/usr/local/lib/python3.7/dist-packages/torch/optim/adam.py\u001b[0m in \u001b[0;36m_single_tensor_adam\u001b[0;34m(params, grads, exp_avgs, exp_avg_sqs, max_exp_avg_sqs, state_steps, amsgrad, beta1, beta2, lr, weight_decay, eps, maximize, capturable)\u001b[0m\n\u001b[1;32m    261\u001b[0m         \u001b[0;31m# Decay the first and second moment running average coefficient\u001b[0m\u001b[0;34m\u001b[0m\u001b[0;34m\u001b[0m\u001b[0;34m\u001b[0m\u001b[0m\n\u001b[1;32m    262\u001b[0m         \u001b[0mexp_avg\u001b[0m\u001b[0;34m.\u001b[0m\u001b[0mmul_\u001b[0m\u001b[0;34m(\u001b[0m\u001b[0mbeta1\u001b[0m\u001b[0;34m)\u001b[0m\u001b[0;34m.\u001b[0m\u001b[0madd_\u001b[0m\u001b[0;34m(\u001b[0m\u001b[0mgrad\u001b[0m\u001b[0;34m,\u001b[0m \u001b[0malpha\u001b[0m\u001b[0;34m=\u001b[0m\u001b[0;36m1\u001b[0m \u001b[0;34m-\u001b[0m \u001b[0mbeta1\u001b[0m\u001b[0;34m)\u001b[0m\u001b[0;34m\u001b[0m\u001b[0;34m\u001b[0m\u001b[0m\n\u001b[0;32m--> 263\u001b[0;31m         \u001b[0mexp_avg_sq\u001b[0m\u001b[0;34m.\u001b[0m\u001b[0mmul_\u001b[0m\u001b[0;34m(\u001b[0m\u001b[0mbeta2\u001b[0m\u001b[0;34m)\u001b[0m\u001b[0;34m.\u001b[0m\u001b[0maddcmul_\u001b[0m\u001b[0;34m(\u001b[0m\u001b[0mgrad\u001b[0m\u001b[0;34m,\u001b[0m \u001b[0mgrad\u001b[0m\u001b[0;34m.\u001b[0m\u001b[0mconj\u001b[0m\u001b[0;34m(\u001b[0m\u001b[0;34m)\u001b[0m\u001b[0;34m,\u001b[0m \u001b[0mvalue\u001b[0m\u001b[0;34m=\u001b[0m\u001b[0;36m1\u001b[0m \u001b[0;34m-\u001b[0m \u001b[0mbeta2\u001b[0m\u001b[0;34m)\u001b[0m\u001b[0;34m\u001b[0m\u001b[0;34m\u001b[0m\u001b[0m\n\u001b[0m\u001b[1;32m    264\u001b[0m \u001b[0;34m\u001b[0m\u001b[0m\n\u001b[1;32m    265\u001b[0m         \u001b[0;32mif\u001b[0m \u001b[0mcapturable\u001b[0m\u001b[0;34m:\u001b[0m\u001b[0;34m\u001b[0m\u001b[0;34m\u001b[0m\u001b[0m\n",
            "\u001b[0;31mKeyboardInterrupt\u001b[0m: "
          ]
        }
      ],
      "source": [
        "# снова объявим модель\n",
        "model = ConvNet()\n",
        "device = torch.device(\"cuda\" if torch.cuda.is_available() else \"cpu\")\n",
        "model = model.to(device)\n",
        "\n",
        "# выбираем функцию потерь\n",
        "loss_fn = torch.nn.CrossEntropyLoss()\n",
        "\n",
        "# выбираем алгоритм оптимизации и learning_rate.\n",
        "# вы можете экспериментировать с разными значениями learning_rate\n",
        "lrs = [0.0009, 0.00095, 0.001, 0.0015, 0.002]\n",
        "n_e = [3, 4, 5, 6, 7]\n",
        "\n",
        "best_acc = 0\n",
        "\n",
        "\n",
        "for l in lrs:\n",
        "  for n in n_e:\n",
        "    print(f\"\\n-- l = {l}, n = {n} --\\n\")\n",
        "    optimizer = torch.optim.Adam(model.parameters(), lr=l)\n",
        "    model = train(model, loss_fn, optimizer, n_epoch=n)\n",
        "    test_accuracy, _ = evaluate(model, test_loader, loss_fn)\n",
        "    print('Accuracy на тесте', test_accuracy)\n",
        "    if(test_accuracy > best_acc):\n",
        "      best_acc = test_accuracy\n",
        "      best_l = l\n",
        "      best_n = n\n",
        "      print(f\"best_acc = {best_acc}, best_l = {best_l}, best_n = {best_n}\")\n",
        "      if best_acc > 0.56: break\n",
        "\n",
        "\n",
        "# learning_rate = 0.001\n",
        "# optimizer = torch.optim.Adam(model.parameters(), lr=learning_rate)\n",
        "# model = train(model, loss_fn, optimizer, n_epoch=9)\n",
        "\n",
        "# test_accuracy, _ = evaluate(model, test_loader, loss_fn)\n",
        "print('Accuracy на тесте', test_accuracy)\n",
        "print(f\"best_acc = {best_acc}, best_l = {best_l}, best_n = {best_n}\")"
      ]
    },
    {
      "cell_type": "code",
      "source": [
        "print(f\"best_acc = {best_acc}, best_l = {best_l}, best_n = {best_n}\")"
      ],
      "metadata": {
        "id": "F-ti__Vie9PA",
        "outputId": "47d81304-5213-48ff-e9a2-bf374edbfca2",
        "colab": {
          "base_uri": "https://localhost:8080/"
        }
      },
      "execution_count": null,
      "outputs": [
        {
          "output_type": "stream",
          "name": "stdout",
          "text": [
            "best_acc = 0.5694000124931335, best_l = 0.00095, best_n = 3\n"
          ]
        }
      ]
    },
    {
      "cell_type": "code",
      "source": [
        "optimizer = torch.optim.Adam(model.parameters(), lr=0.00095)\n",
        "model = train(model, loss_fn, optimizer, n_epoch=3)\n",
        "test_accuracy, _ = evaluate(model, test_loader, loss_fn)\n",
        "print('Accuracy на тесте', test_accuracy)"
      ],
      "metadata": {
        "id": "LUzx5vN3e_Da",
        "outputId": "90b537c1-fa2c-4ab3-a291-df6986ee1ba2",
        "colab": {
          "base_uri": "https://localhost:8080/"
        }
      },
      "execution_count": null,
      "outputs": [
        {
          "output_type": "stream",
          "name": "stdout",
          "text": [
            "Epoch: 1\n",
            "Средние train лосс и accuracy на последних 50 итерациях: 0.726313153207302 0.7445313\n",
            "Средние train лосс и accuracy на последних 50 итерациях: 0.7199180884659291 0.7469531\n",
            "Средние train лосс и accuracy на последних 50 итерациях: 0.7291327753663063 0.74317706\n",
            "Средние train лосс и accuracy на последних 50 итерациях: 0.7382822874933481 0.7411719\n",
            "Средние train лосс и accuracy на последних 50 итерациях: 0.74458661454916 0.7385\n",
            "Средние train лосс и accuracy на последних 50 итерациях: 0.7523553556700547 0.7361198\n",
            "Эпоха 1/3: val лосс и accuracy: 1.3968411274017043 0.5622\n",
            "Epoch: 2\n",
            "Средние train лосс и accuracy на последних 50 итерациях: 0.704984877705574 0.75453126\n",
            "Средние train лосс и accuracy на последних 50 итерациях: 0.6969803538918495 0.7575\n",
            "Средние train лосс и accuracy на последних 50 итерациях: 0.7104129408796628 0.75375\n",
            "Средние train лосс и accuracy на последних 50 итерациях: 0.715054062306881 0.7521875\n",
            "Средние train лосс и accuracy на последних 50 итерациях: 0.7201032139062882 0.748625\n",
            "Средние train лосс и accuracy на последних 50 итерациях: 0.725321494191885 0.7478125\n",
            "Эпоха 2/3: val лосс и accuracy: 1.4265092577144598 0.5564\n",
            "Epoch: 3\n",
            "Средние train лосс и accuracy на последних 50 итерациях: 0.6549246665835381 0.7757813\n",
            "Средние train лосс и accuracy на последних 50 итерациях: 0.6770091529190541 0.76554686\n",
            "Средние train лосс и accuracy на последних 50 итерациях: 0.6829208358128865 0.7640104\n",
            "Средние train лосс и accuracy на последних 50 итерациях: 0.6880879386514426 0.76101565\n",
            "Средние train лосс и accuracy на последних 50 итерациях: 0.6951946140527725 0.75746876\n",
            "Средние train лосс и accuracy на последних 50 итерациях: 0.6999824640154838 0.7564323\n",
            "Эпоха 3/3: val лосс и accuracy: 1.4570338300838592 0.5595\n",
            "Accuracy на тесте 0.5651\n"
          ]
        }
      ]
    },
    {
      "cell_type": "markdown",
      "source": [
        "Вы можете экспериментировать с разным устройством архитектуры нейросети и запускать ее обучение и проверять accuracy на тесте с помощью трех ячеек выше. Когда вы получили нужное значение accuracy на тесте, можете сдавать задание на Я.Контест."
      ],
      "metadata": {
        "id": "mTWg3rx7oigY"
      }
    },
    {
      "cell_type": "markdown",
      "metadata": {
        "id": "s1lUTTanUntT"
      },
      "source": [
        "Проверка, что необходимые пороги пройдены:"
      ]
    },
    {
      "cell_type": "code",
      "execution_count": null,
      "metadata": {
        "id": "h0D82xfkUntT",
        "outputId": "9ba1c530-6048-4d7d-9706-740e214cc2eb",
        "colab": {
          "base_uri": "https://localhost:8080/"
        }
      },
      "outputs": [
        {
          "output_type": "stream",
          "name": "stdout",
          "text": [
            "Качество на тесте выше 0.56, 1 балл\n"
          ]
        }
      ],
      "source": [
        "if test_accuracy <= 0.5:\n",
        "    print(\"Качество на тесте ниже 0.5, 0 баллов\")\n",
        "elif test_accuracy < 0.56:\n",
        "    print(\"Качество на тесте между 0.5 и 0.56, 0.5 баллов\")\n",
        "elif test_accuracy >= 0.56:\n",
        "    print(\"Качество на тесте выше 0.56, 1 балл\")"
      ]
    },
    {
      "cell_type": "markdown",
      "metadata": {
        "id": "jaaib09bUntU"
      },
      "source": [
        "### Сдача задания\n",
        "Запустите код ниже для генерации посылки. Полученный файл сдайте в Я.Контест в качестве решения."
      ]
    },
    {
      "cell_type": "code",
      "execution_count": null,
      "metadata": {
        "id": "gnLPac1NUntV",
        "outputId": "131d7e9e-6109-41eb-83ff-54dfa1fb80f5",
        "colab": {
          "base_uri": "https://localhost:8080/"
        }
      },
      "outputs": [
        {
          "output_type": "stream",
          "name": "stdout",
          "text": [
            "Ответ сохранен в файл `submission_hw04.npy`\n"
          ]
        }
      ],
      "source": [
        "import os\n",
        "\n",
        "def get_predictions(model, dataloader):\n",
        "\n",
        "    predicted_labels = []\n",
        "    model.eval()\n",
        "    predicted_labels = []\n",
        "\n",
        "    for i, batch in enumerate(dataloader):\n",
        "\n",
        "        # так получаем текущий батч\n",
        "        X_batch, y_batch = batch\n",
        "\n",
        "        with torch.no_grad():\n",
        "            logits = model(X_batch.to(device))\n",
        "            y_pred = torch.argmax(logits, dim=1)\n",
        "            predicted_labels.append(y_pred)\n",
        "\n",
        "    predicted_labels = torch.cat(predicted_labels)\n",
        "    return predicted_labels\n",
        "\n",
        "predicted_labels = get_predictions(model, test_loader)\n",
        "\n",
        "np.save('submission_hw04.npy', predicted_labels.data.cpu().numpy(), allow_pickle=True)\n",
        "print('Ответ сохранен в файл `submission_hw04.npy`')"
      ]
    },
    {
      "cell_type": "markdown",
      "metadata": {
        "id": "szdg0viDUntW"
      },
      "source": [
        "На этом задание завершено. Поздравляем!"
      ]
    }
  ],
  "metadata": {
    "kernelspec": {
      "display_name": "Py3 Research",
      "language": "python",
      "name": "py3_research"
    },
    "language_info": {
      "codemirror_mode": {
        "name": "ipython",
        "version": 3
      },
      "file_extension": ".py",
      "mimetype": "text/x-python",
      "name": "python",
      "nbconvert_exporter": "python",
      "pygments_lexer": "ipython3",
      "version": "3.7.10"
    },
    "colab": {
      "provenance": []
    },
    "accelerator": "GPU",
    "gpuClass": "standard",
    "widgets": {
      "application/vnd.jupyter.widget-state+json": {
        "dd462ab47c7a47ddba0b1483e852839a": {
          "model_module": "@jupyter-widgets/controls",
          "model_name": "HBoxModel",
          "model_module_version": "1.5.0",
          "state": {
            "_dom_classes": [],
            "_model_module": "@jupyter-widgets/controls",
            "_model_module_version": "1.5.0",
            "_model_name": "HBoxModel",
            "_view_count": null,
            "_view_module": "@jupyter-widgets/controls",
            "_view_module_version": "1.5.0",
            "_view_name": "HBoxView",
            "box_style": "",
            "children": [
              "IPY_MODEL_d97140c940fd4df69fe6ce5fe8e9304a",
              "IPY_MODEL_54d302e01a70462e94a991ef184768d6",
              "IPY_MODEL_7aed71638bf44f9398f16f04ef2e0c32"
            ],
            "layout": "IPY_MODEL_a5098fc9f0be43f3b9a95aad573aac7c"
          }
        },
        "d97140c940fd4df69fe6ce5fe8e9304a": {
          "model_module": "@jupyter-widgets/controls",
          "model_name": "HTMLModel",
          "model_module_version": "1.5.0",
          "state": {
            "_dom_classes": [],
            "_model_module": "@jupyter-widgets/controls",
            "_model_module_version": "1.5.0",
            "_model_name": "HTMLModel",
            "_view_count": null,
            "_view_module": "@jupyter-widgets/controls",
            "_view_module_version": "1.5.0",
            "_view_name": "HTMLView",
            "description": "",
            "description_tooltip": null,
            "layout": "IPY_MODEL_3e3b4a3b01304bdd9b4cbd5419b545b1",
            "placeholder": "​",
            "style": "IPY_MODEL_584adc24851a49ec8c201062cba57ec4",
            "value": "100%"
          }
        },
        "54d302e01a70462e94a991ef184768d6": {
          "model_module": "@jupyter-widgets/controls",
          "model_name": "FloatProgressModel",
          "model_module_version": "1.5.0",
          "state": {
            "_dom_classes": [],
            "_model_module": "@jupyter-widgets/controls",
            "_model_module_version": "1.5.0",
            "_model_name": "FloatProgressModel",
            "_view_count": null,
            "_view_module": "@jupyter-widgets/controls",
            "_view_module_version": "1.5.0",
            "_view_name": "ProgressView",
            "bar_style": "success",
            "description": "",
            "description_tooltip": null,
            "layout": "IPY_MODEL_de6cc794afeb4160b5670a06b7e9f221",
            "max": 170498071,
            "min": 0,
            "orientation": "horizontal",
            "style": "IPY_MODEL_8ce1428db9734e70aff97b8fc573ea23",
            "value": 170498071
          }
        },
        "7aed71638bf44f9398f16f04ef2e0c32": {
          "model_module": "@jupyter-widgets/controls",
          "model_name": "HTMLModel",
          "model_module_version": "1.5.0",
          "state": {
            "_dom_classes": [],
            "_model_module": "@jupyter-widgets/controls",
            "_model_module_version": "1.5.0",
            "_model_name": "HTMLModel",
            "_view_count": null,
            "_view_module": "@jupyter-widgets/controls",
            "_view_module_version": "1.5.0",
            "_view_name": "HTMLView",
            "description": "",
            "description_tooltip": null,
            "layout": "IPY_MODEL_78e1eaa1a6f44f13b5bc0a632528acbb",
            "placeholder": "​",
            "style": "IPY_MODEL_318ce4e844fb4dbf89ecc72bea9d237d",
            "value": " 170498071/170498071 [00:02&lt;00:00, 67803389.92it/s]"
          }
        },
        "a5098fc9f0be43f3b9a95aad573aac7c": {
          "model_module": "@jupyter-widgets/base",
          "model_name": "LayoutModel",
          "model_module_version": "1.2.0",
          "state": {
            "_model_module": "@jupyter-widgets/base",
            "_model_module_version": "1.2.0",
            "_model_name": "LayoutModel",
            "_view_count": null,
            "_view_module": "@jupyter-widgets/base",
            "_view_module_version": "1.2.0",
            "_view_name": "LayoutView",
            "align_content": null,
            "align_items": null,
            "align_self": null,
            "border": null,
            "bottom": null,
            "display": null,
            "flex": null,
            "flex_flow": null,
            "grid_area": null,
            "grid_auto_columns": null,
            "grid_auto_flow": null,
            "grid_auto_rows": null,
            "grid_column": null,
            "grid_gap": null,
            "grid_row": null,
            "grid_template_areas": null,
            "grid_template_columns": null,
            "grid_template_rows": null,
            "height": null,
            "justify_content": null,
            "justify_items": null,
            "left": null,
            "margin": null,
            "max_height": null,
            "max_width": null,
            "min_height": null,
            "min_width": null,
            "object_fit": null,
            "object_position": null,
            "order": null,
            "overflow": null,
            "overflow_x": null,
            "overflow_y": null,
            "padding": null,
            "right": null,
            "top": null,
            "visibility": null,
            "width": null
          }
        },
        "3e3b4a3b01304bdd9b4cbd5419b545b1": {
          "model_module": "@jupyter-widgets/base",
          "model_name": "LayoutModel",
          "model_module_version": "1.2.0",
          "state": {
            "_model_module": "@jupyter-widgets/base",
            "_model_module_version": "1.2.0",
            "_model_name": "LayoutModel",
            "_view_count": null,
            "_view_module": "@jupyter-widgets/base",
            "_view_module_version": "1.2.0",
            "_view_name": "LayoutView",
            "align_content": null,
            "align_items": null,
            "align_self": null,
            "border": null,
            "bottom": null,
            "display": null,
            "flex": null,
            "flex_flow": null,
            "grid_area": null,
            "grid_auto_columns": null,
            "grid_auto_flow": null,
            "grid_auto_rows": null,
            "grid_column": null,
            "grid_gap": null,
            "grid_row": null,
            "grid_template_areas": null,
            "grid_template_columns": null,
            "grid_template_rows": null,
            "height": null,
            "justify_content": null,
            "justify_items": null,
            "left": null,
            "margin": null,
            "max_height": null,
            "max_width": null,
            "min_height": null,
            "min_width": null,
            "object_fit": null,
            "object_position": null,
            "order": null,
            "overflow": null,
            "overflow_x": null,
            "overflow_y": null,
            "padding": null,
            "right": null,
            "top": null,
            "visibility": null,
            "width": null
          }
        },
        "584adc24851a49ec8c201062cba57ec4": {
          "model_module": "@jupyter-widgets/controls",
          "model_name": "DescriptionStyleModel",
          "model_module_version": "1.5.0",
          "state": {
            "_model_module": "@jupyter-widgets/controls",
            "_model_module_version": "1.5.0",
            "_model_name": "DescriptionStyleModel",
            "_view_count": null,
            "_view_module": "@jupyter-widgets/base",
            "_view_module_version": "1.2.0",
            "_view_name": "StyleView",
            "description_width": ""
          }
        },
        "de6cc794afeb4160b5670a06b7e9f221": {
          "model_module": "@jupyter-widgets/base",
          "model_name": "LayoutModel",
          "model_module_version": "1.2.0",
          "state": {
            "_model_module": "@jupyter-widgets/base",
            "_model_module_version": "1.2.0",
            "_model_name": "LayoutModel",
            "_view_count": null,
            "_view_module": "@jupyter-widgets/base",
            "_view_module_version": "1.2.0",
            "_view_name": "LayoutView",
            "align_content": null,
            "align_items": null,
            "align_self": null,
            "border": null,
            "bottom": null,
            "display": null,
            "flex": null,
            "flex_flow": null,
            "grid_area": null,
            "grid_auto_columns": null,
            "grid_auto_flow": null,
            "grid_auto_rows": null,
            "grid_column": null,
            "grid_gap": null,
            "grid_row": null,
            "grid_template_areas": null,
            "grid_template_columns": null,
            "grid_template_rows": null,
            "height": null,
            "justify_content": null,
            "justify_items": null,
            "left": null,
            "margin": null,
            "max_height": null,
            "max_width": null,
            "min_height": null,
            "min_width": null,
            "object_fit": null,
            "object_position": null,
            "order": null,
            "overflow": null,
            "overflow_x": null,
            "overflow_y": null,
            "padding": null,
            "right": null,
            "top": null,
            "visibility": null,
            "width": null
          }
        },
        "8ce1428db9734e70aff97b8fc573ea23": {
          "model_module": "@jupyter-widgets/controls",
          "model_name": "ProgressStyleModel",
          "model_module_version": "1.5.0",
          "state": {
            "_model_module": "@jupyter-widgets/controls",
            "_model_module_version": "1.5.0",
            "_model_name": "ProgressStyleModel",
            "_view_count": null,
            "_view_module": "@jupyter-widgets/base",
            "_view_module_version": "1.2.0",
            "_view_name": "StyleView",
            "bar_color": null,
            "description_width": ""
          }
        },
        "78e1eaa1a6f44f13b5bc0a632528acbb": {
          "model_module": "@jupyter-widgets/base",
          "model_name": "LayoutModel",
          "model_module_version": "1.2.0",
          "state": {
            "_model_module": "@jupyter-widgets/base",
            "_model_module_version": "1.2.0",
            "_model_name": "LayoutModel",
            "_view_count": null,
            "_view_module": "@jupyter-widgets/base",
            "_view_module_version": "1.2.0",
            "_view_name": "LayoutView",
            "align_content": null,
            "align_items": null,
            "align_self": null,
            "border": null,
            "bottom": null,
            "display": null,
            "flex": null,
            "flex_flow": null,
            "grid_area": null,
            "grid_auto_columns": null,
            "grid_auto_flow": null,
            "grid_auto_rows": null,
            "grid_column": null,
            "grid_gap": null,
            "grid_row": null,
            "grid_template_areas": null,
            "grid_template_columns": null,
            "grid_template_rows": null,
            "height": null,
            "justify_content": null,
            "justify_items": null,
            "left": null,
            "margin": null,
            "max_height": null,
            "max_width": null,
            "min_height": null,
            "min_width": null,
            "object_fit": null,
            "object_position": null,
            "order": null,
            "overflow": null,
            "overflow_x": null,
            "overflow_y": null,
            "padding": null,
            "right": null,
            "top": null,
            "visibility": null,
            "width": null
          }
        },
        "318ce4e844fb4dbf89ecc72bea9d237d": {
          "model_module": "@jupyter-widgets/controls",
          "model_name": "DescriptionStyleModel",
          "model_module_version": "1.5.0",
          "state": {
            "_model_module": "@jupyter-widgets/controls",
            "_model_module_version": "1.5.0",
            "_model_name": "DescriptionStyleModel",
            "_view_count": null,
            "_view_module": "@jupyter-widgets/base",
            "_view_module_version": "1.2.0",
            "_view_name": "StyleView",
            "description_width": ""
          }
        }
      }
    }
  },
  "nbformat": 4,
  "nbformat_minor": 0
}
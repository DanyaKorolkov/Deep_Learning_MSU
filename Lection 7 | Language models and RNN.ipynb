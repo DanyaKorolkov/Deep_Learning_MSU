{
  "cells": [
    {
      "cell_type": "markdown",
      "metadata": {
        "id": "mB0wDyZjrxKF"
      },
      "source": [
        "## Введение в глубокое обучение\n",
        "### Занятие 7. Языковое моделирование и RNN\n",
        "\n",
        "##### Автор: [Радослав Нейчев](https://www.linkedin.com/in/radoslav-neychev/), @neychev\n",
        "##### Credits: Based on the notebook by [YSDA Practical RL course](https://github.com/yandexdataschool/Practical_RL/)"
      ]
    },
    {
      "cell_type": "markdown",
      "metadata": {
        "id": "8akcopAprxKI"
      },
      "source": [
        "#### План занятия:\n",
        "1. Введение в работу с последовательностями.\n",
        "2. Принципы работы рекуррентных нейронных сетей.\n",
        "3. Предобработка текстовых данных для задачи языкового моделирования.\n",
        "4. Построение рекуррентной нейронной сети для задачи языкового моделирования."
      ]
    },
    {
      "cell_type": "markdown",
      "metadata": {
        "id": "FEAR3t4erxKJ"
      },
      "source": [
        "### 1. Введение в работу с последовательностями.\n",
        "\n",
        "__Go to slides__"
      ]
    },
    {
      "cell_type": "markdown",
      "metadata": {
        "id": "jfcm67tNrxKL"
      },
      "source": [
        "### 2. Принципы работы рекуррентных нейронных сетей.\n",
        "\n",
        "__Go to slides__"
      ]
    },
    {
      "cell_type": "markdown",
      "metadata": {
        "id": "SkVQmgqDrxKL"
      },
      "source": [
        "### 3. Предобработка текстовых данных для задачи языкового моделирования.\n",
        "Рассмотрим набор данных, который представляет собой список имен. Каждая последовательность – отдельное имя. В качестве токенов будем рассматривать отдельные символы."
      ]
    },
    {
      "cell_type": "code",
      "execution_count": null,
      "metadata": {
        "id": "rdPKfFXqrxKL"
      },
      "outputs": [],
      "source": [
        "import os\n",
        "from random import sample\n",
        "\n",
        "import numpy as np\n",
        "\n",
        "import torch\n",
        "import torch.nn as nn\n",
        "import torch.nn.functional as F\n",
        "\n",
        "import matplotlib.pyplot as plt\n",
        "from IPython.display import clear_output"
      ]
    },
    {
      "cell_type": "markdown",
      "metadata": {
        "id": "xVaR9o4RrxKM"
      },
      "source": [
        "Загрузим и предобработаем данные:"
      ]
    },
    {
      "cell_type": "code",
      "execution_count": null,
      "metadata": {
        "id": "-B-Ur1VsrxKN",
        "outputId": "379587e0-a5a9-40db-ad95-79870734ea16",
        "colab": {
          "base_uri": "https://localhost:8080/"
        }
      },
      "outputs": [
        {
          "output_type": "stream",
          "name": "stdout",
          "text": [
            "--2022-11-25 17:27:36--  https://raw.githubusercontent.com/neychev/small_DL_repo/master/names\n",
            "Resolving raw.githubusercontent.com (raw.githubusercontent.com)... 185.199.108.133, 185.199.109.133, 185.199.110.133, ...\n",
            "Connecting to raw.githubusercontent.com (raw.githubusercontent.com)|185.199.108.133|:443... connected.\n",
            "HTTP request sent, awaiting response... 200 OK\n",
            "Length: 55868 (55K) [text/plain]\n",
            "Saving to: ‘names.txt’\n",
            "\n",
            "\rnames.txt             0%[                    ]       0  --.-KB/s               \rnames.txt           100%[===================>]  54.56K  --.-KB/s    in 0.004s  \n",
            "\n",
            "2022-11-25 17:27:36 (14.3 MB/s) - ‘names.txt’ saved [55868/55868]\n",
            "\n"
          ]
        }
      ],
      "source": [
        "! wget https://raw.githubusercontent.com/neychev/small_DL_repo/master/names -O names.txt"
      ]
    },
    {
      "cell_type": "code",
      "source": [
        "!head names.txt"
      ],
      "metadata": {
        "colab": {
          "base_uri": "https://localhost:8080/"
        },
        "id": "bPVAhKHxjTtq",
        "outputId": "90a38ea4-bd3b-468f-c718-8b22575053bc"
      },
      "execution_count": null,
      "outputs": [
        {
          "output_type": "stream",
          "name": "stdout",
          "text": [
            "Abagael\n",
            "Abagail\n",
            "Abbe\n",
            "Abbey\n",
            "Abbi\n",
            "Abbie\n",
            "Abby\n",
            "Abigael\n",
            "Abigail\n",
            "Abigale\n"
          ]
        }
      ]
    },
    {
      "cell_type": "code",
      "execution_count": null,
      "metadata": {
        "id": "8Aq40oqlrxKO"
      },
      "outputs": [],
      "source": [
        "start_token = \" \"\n",
        "\n",
        "with open(\"names.txt\") as f:\n",
        "    names = f.read()[:-1].split('\\n')\n",
        "    names = [start_token + line for line in names]"
      ]
    },
    {
      "cell_type": "markdown",
      "metadata": {
        "id": "WR7flmrDrxKO"
      },
      "source": [
        "Как видим, в датасете 7944 примера. Обратите внимание, каждая последовательность начинается с пробела."
      ]
    },
    {
      "cell_type": "code",
      "source": [
        "a = [1,2,3,4,5]"
      ],
      "metadata": {
        "id": "zCDj-49dkM-F"
      },
      "execution_count": null,
      "outputs": []
    },
    {
      "cell_type": "code",
      "source": [
        "a[::-1]"
      ],
      "metadata": {
        "colab": {
          "base_uri": "https://localhost:8080/"
        },
        "id": "A6IPn735kPWD",
        "outputId": "a9c5abc9-5561-490f-ebdd-581b8ce8e03e"
      },
      "execution_count": null,
      "outputs": [
        {
          "output_type": "execute_result",
          "data": {
            "text/plain": [
              "[5, 4, 3, 2, 1]"
            ]
          },
          "metadata": {},
          "execution_count": 62
        }
      ]
    },
    {
      "cell_type": "code",
      "execution_count": null,
      "metadata": {
        "id": "qj_D5eynrxKO",
        "outputId": "6d42d04c-f2cc-42c0-9481-87fda3c21227",
        "colab": {
          "base_uri": "https://localhost:8080/"
        }
      },
      "outputs": [
        {
          "output_type": "stream",
          "name": "stdout",
          "text": [
            "n_samples =  7944\n",
            " Abagael\n",
            " Claresta\n",
            " Glory\n",
            " Liliane\n",
            " Prissie\n",
            " Geeta\n",
            " Giovanne\n",
            " Piggy\n"
          ]
        }
      ],
      "source": [
        "print ('n_samples = ',len(names))\n",
        "for x in names[::1000]:\n",
        "    print (x)"
      ]
    },
    {
      "cell_type": "markdown",
      "metadata": {
        "id": "t4FQm-r4rxKO"
      },
      "source": [
        "Рассмотрим распределение длин последовательностей:"
      ]
    },
    {
      "cell_type": "code",
      "execution_count": null,
      "metadata": {
        "id": "AjIEn6xmrxKP",
        "outputId": "a79424a2-31eb-4191-b708-b9125e50519f",
        "colab": {
          "base_uri": "https://localhost:8080/",
          "height": 296
        }
      },
      "outputs": [
        {
          "output_type": "stream",
          "name": "stdout",
          "text": [
            "max_length = 16\n"
          ]
        },
        {
          "output_type": "display_data",
          "data": {
            "text/plain": [
              "<Figure size 432x288 with 1 Axes>"
            ],
            "image/png": "[encoded data removed]"
          },
          "metadata": {
            "needs_background": "light"
          }
        }
      ],
      "source": [
        "MAX_LENGTH = max(map(len, names))\n",
        "print(\"max_length =\", MAX_LENGTH)\n",
        "\n",
        "plt.title('Sequence length distribution')\n",
        "plt.hist(list(map(len, names)),bins=25);"
      ]
    },
    {
      "cell_type": "markdown",
      "metadata": {
        "id": "XQoO2yWIrxKP"
      },
      "source": [
        "#### Предобработка текста\n",
        "\n",
        "Для начала построим \"словарь\" из всех уникальных токенов и пронумеруем их. Тогда мы можем кодировать входные данные как последовательность их индексов символов. Например, имя \"Aboba\" будет представлено как `[0, 1, 15, 1, 0]`."
      ]
    },
    {
      "cell_type": "code",
      "source": [
        "set('aaaaaabbbbcc')"
      ],
      "metadata": {
        "colab": {
          "base_uri": "https://localhost:8080/"
        },
        "id": "jizaw3jXl12x",
        "outputId": "0b02c270-3f79-482e-8f06-65c4effb6d9c"
      },
      "execution_count": null,
      "outputs": [
        {
          "output_type": "execute_result",
          "data": {
            "text/plain": [
              "{'a', 'b', 'c'}"
            ]
          },
          "metadata": {},
          "execution_count": 65
        }
      ]
    },
    {
      "cell_type": "code",
      "execution_count": null,
      "metadata": {
        "id": "XNrzY2R4rxKQ",
        "outputId": "e1024ef8-4804-4c5e-fb7a-df85288b9dc3",
        "colab": {
          "base_uri": "https://localhost:8080/"
        }
      },
      "outputs": [
        {
          "output_type": "stream",
          "name": "stdout",
          "text": [
            "num_tokens =  55\n"
          ]
        }
      ],
      "source": [
        "tokens = set() # <set of all unique characters in the dataset>\n",
        "\n",
        "for name in names:\n",
        "    tokens.update(set(name))\n",
        "tokens = list(tokens)\n",
        "\n",
        "num_tokens = len(tokens)\n",
        "print ('num_tokens = ', num_tokens)"
      ]
    },
    {
      "cell_type": "code",
      "execution_count": null,
      "metadata": {
        "id": "jimKw3HarxKQ"
      },
      "outputs": [],
      "source": [
        "# <dictionary of symbol -> its identifier (index in tokens list)>\n",
        "token_to_id = {\n",
        "    token: idx for idx, token in enumerate(tokens)\n",
        "}"
      ]
    },
    {
      "cell_type": "markdown",
      "metadata": {
        "id": "4OYwuOhsrxKQ"
      },
      "source": [
        "Теперь каждому соответствует уникальный индекс."
      ]
    },
    {
      "cell_type": "markdown",
      "metadata": {
        "id": "RshW0XxqrxKQ"
      },
      "source": [
        "Наконец, реализуем функцию для преобразования список имен в матричное представление, которое в дальнейшем будет использоваться в качестве батча.\n",
        "Т.к. тексты могут быть различной длины, дополним их до максимальной длины `max_len` или до длины самого длинного имени из выборки, если этот параметр не указан."
      ]
    },
    {
      "cell_type": "code",
      "execution_count": null,
      "metadata": {
        "id": "W3WgUgG1rxKR"
      },
      "outputs": [],
      "source": [
        "def to_matrix(names, max_len=None, pad=token_to_id[' '], dtype='int32', batch_first=True):\n",
        "    \"\"\"Casts a list of names into rnn-digestable matrix\"\"\"\n",
        "\n",
        "    max_len = max_len or max(map(len, names))\n",
        "    names_ix = np.zeros([len(names), max_len], dtype) + pad\n",
        "\n",
        "    for i in range(len(names)):\n",
        "        line_ix = [token_to_id[c] for c in names[i]]\n",
        "        names_ix[i, :len(line_ix)] = line_ix\n",
        "\n",
        "    if not batch_first: # convert [batch, time] into [time, batch]\n",
        "        names_ix = np.transpose(names_ix)\n",
        "\n",
        "    return names_ix"
      ]
    },
    {
      "cell_type": "markdown",
      "metadata": {
        "id": "RvnG8ke1rxKR"
      },
      "source": [
        "Рассмотрим пример:"
      ]
    },
    {
      "cell_type": "code",
      "execution_count": null,
      "metadata": {
        "id": "28SDf_3urxKR",
        "outputId": "d50b650e-e2e0-49a1-c0f4-5ef63c6fff76",
        "colab": {
          "base_uri": "https://localhost:8080/"
        }
      },
      "outputs": [
        {
          "output_type": "stream",
          "name": "stdout",
          "text": [
            " Abagael\n",
            " Claresta\n",
            " Glory\n",
            " Liliane\n",
            " Prissie\n",
            " Geeta\n",
            " Giovanne\n",
            " Piggy\n",
            "[[41 32 50 21 16 21 53 28 41]\n",
            " [41 30 28 21 17 53  0 11 21]\n",
            " [41 46 28 39 17 10 41 41 41]\n",
            " [41 52 19 28 19 21 49 53 41]\n",
            " [41 25 17 19  0  0 19 53 41]\n",
            " [41 46 53 53 11 21 41 41 41]\n",
            " [41 46 19 39  4 21 49 49 53]\n",
            " [41 25 19 16 16 10 41 41 41]]\n"
          ]
        }
      ],
      "source": [
        "print('\\n'.join(names[::1000]))\n",
        "print(to_matrix(names[::1000]))"
      ]
    },
    {
      "cell_type": "code",
      "source": [
        "plt.pcolormesh(to_matrix(names[::1000])==token_to_id[' ']\n",
        ")"
      ],
      "metadata": {
        "colab": {
          "base_uri": "https://localhost:8080/",
          "height": 284
        },
        "id": "B3KTWt6SnCGv",
        "outputId": "638416b8-88d0-4371-eaa0-6eea3328a85c"
      },
      "execution_count": null,
      "outputs": [
        {
          "output_type": "execute_result",
          "data": {
            "text/plain": [
              "<matplotlib.collections.QuadMesh at 0x7ff0f31dc290>"
            ]
          },
          "metadata": {},
          "execution_count": 70
        },
        {
          "output_type": "display_data",
          "data": {
            "text/plain": [
              "<Figure size 432x288 with 1 Axes>"
            ],
            "image/png": "[encoded data removed]"
          },
          "metadata": {
            "needs_background": "light"
          }
        }
      ]
    },
    {
      "cell_type": "markdown",
      "metadata": {
        "id": "WvQJOEsIrxKR"
      },
      "source": [
        "#### 4. Построение рекуррентной нейронной сети для задачи языкового моделирования.\n",
        "Наконец, перейдем непосредственно к построению рекуррентной нейронной сети. Сегодня мы реализуем ее с нуля. Готовый вариант доступен, например, в `torch.nn.RNN`.\n",
        "\n",
        "Рекуррентную нейронную сеть можно рассматривать как последовательное применение плотного слоя к входу $x_t$ и предыдущему состоянию `rnn` $h_t$.\n",
        "<img src=\"https://raw.githubusercontent.com/neychev/small_DL_repo/master/rnn.png\" width=480>\n",
        "\n",
        "Также нам понадобятся:\n",
        "* Embedding-слой, который преобразует индекс токена $x_t$ в вектор. Принцип его действия аналогичен word2vec, который был рассмотрен ранее. Основное отличие: параметры обучаются непосредственно на данную задачу.\n",
        "* Выходной слой, который предсказывает вероятность следующего токена."
      ]
    },
    {
      "cell_type": "code",
      "source": [
        "embed = nn.Embedding(10, 4)"
      ],
      "metadata": {
        "id": "Ql4ImG11nH9z"
      },
      "execution_count": null,
      "outputs": []
    },
    {
      "cell_type": "code",
      "source": [
        "params = next(iter(embed.parameters()))"
      ],
      "metadata": {
        "id": "mdv4NVQcn6Ev"
      },
      "execution_count": null,
      "outputs": []
    },
    {
      "cell_type": "code",
      "source": [
        "params"
      ],
      "metadata": {
        "colab": {
          "base_uri": "https://localhost:8080/"
        },
        "id": "chhyG3bKn_Di",
        "outputId": "65433a8b-43c3-46ac-ac9c-2d9e16f7dba5"
      },
      "execution_count": null,
      "outputs": [
        {
          "output_type": "execute_result",
          "data": {
            "text/plain": [
              "Parameter containing:\n",
              "tensor([[-0.4714,  0.4205, -0.0222,  2.9374],\n",
              "        [-0.6113,  0.0155, -0.6536,  0.4244],\n",
              "        [ 0.0477,  0.5193,  0.8997,  1.2860],\n",
              "        [-1.2081, -1.0448, -1.1122,  0.0542],\n",
              "        [-1.1213,  0.4014, -0.9975, -0.0394],\n",
              "        [-0.8243,  0.0946,  0.1340,  0.1220],\n",
              "        [-0.7654,  1.8185,  0.5243, -0.6632],\n",
              "        [-0.5876, -0.4780, -1.0048, -0.1892],\n",
              "        [ 0.9650, -1.6234,  0.1386, -2.9455],\n",
              "        [-1.1171,  0.5972, -0.1727, -1.0922]], requires_grad=True)"
            ]
          },
          "metadata": {},
          "execution_count": 73
        }
      ]
    },
    {
      "cell_type": "code",
      "source": [
        "embed(torch.LongTensor([1]))"
      ],
      "metadata": {
        "colab": {
          "base_uri": "https://localhost:8080/"
        },
        "id": "dpqSPL7toBl9",
        "outputId": "e4f1300c-fdc5-40b3-d0ca-e23fc64c340b"
      },
      "execution_count": null,
      "outputs": [
        {
          "output_type": "execute_result",
          "data": {
            "text/plain": [
              "tensor([[-0.6113,  0.0155, -0.6536,  0.4244]], grad_fn=<EmbeddingBackward0>)"
            ]
          },
          "metadata": {},
          "execution_count": 74
        }
      ]
    },
    {
      "cell_type": "code",
      "source": [
        "type(torch.LongTensor([1]))"
      ],
      "metadata": {
        "colab": {
          "base_uri": "https://localhost:8080/"
        },
        "id": "EQw7AereogPd",
        "outputId": "6943ed36-e020-482d-b6c6-76fa927fae56"
      },
      "execution_count": null,
      "outputs": [
        {
          "output_type": "execute_result",
          "data": {
            "text/plain": [
              "torch.Tensor"
            ]
          },
          "metadata": {},
          "execution_count": 75
        }
      ]
    },
    {
      "cell_type": "code",
      "source": [
        "vector = torch.zeros(10)\n",
        "vector[1] = 1\n",
        "print(vector)"
      ],
      "metadata": {
        "colab": {
          "base_uri": "https://localhost:8080/"
        },
        "id": "Zf6QXmO1oMH3",
        "outputId": "6e916ec1-00f0-4710-ff4b-d6f832e012a0"
      },
      "execution_count": null,
      "outputs": [
        {
          "output_type": "stream",
          "name": "stdout",
          "text": [
            "tensor([0., 1., 0., 0., 0., 0., 0., 0., 0., 0.])\n"
          ]
        }
      ]
    },
    {
      "cell_type": "code",
      "source": [
        "torch.matmul(vector, params)"
      ],
      "metadata": {
        "colab": {
          "base_uri": "https://localhost:8080/"
        },
        "id": "psP7XRSkouyR",
        "outputId": "f98e2c2a-2751-4285-a505-5865f0342a28"
      },
      "execution_count": null,
      "outputs": [
        {
          "output_type": "execute_result",
          "data": {
            "text/plain": [
              "tensor([-0.6113,  0.0155, -0.6536,  0.4244], grad_fn=<SqueezeBackward3>)"
            ]
          },
          "metadata": {},
          "execution_count": 77
        }
      ]
    },
    {
      "cell_type": "code",
      "source": [
        "embed(torch.LongTensor([1]))"
      ],
      "metadata": {
        "colab": {
          "base_uri": "https://localhost:8080/"
        },
        "id": "IawBy7mDo2fz",
        "outputId": "cf4a5bb0-6674-4f3b-e86b-3ee2eb444d8b"
      },
      "execution_count": null,
      "outputs": [
        {
          "output_type": "execute_result",
          "data": {
            "text/plain": [
              "tensor([[-0.6113,  0.0155, -0.6536,  0.4244]], grad_fn=<EmbeddingBackward0>)"
            ]
          },
          "metadata": {},
          "execution_count": 78
        }
      ]
    },
    {
      "cell_type": "code",
      "execution_count": null,
      "metadata": {
        "id": "WcVbpqgArxKR"
      },
      "outputs": [],
      "source": [
        "class CharRNNCell(nn.Module):\n",
        "    \"\"\"\n",
        "    Implement the scheme above as torch module\n",
        "    \"\"\"\n",
        "    def __init__(self, num_tokens=len(tokens), embedding_size=16, rnn_num_units=64):\n",
        "        super(self.__class__,self).__init__()\n",
        "        self.num_units = rnn_num_units\n",
        "\n",
        "        self.embedding = nn.Embedding(num_tokens, embedding_size)\n",
        "        self.rnn_update = nn.Linear(embedding_size + rnn_num_units, rnn_num_units)\n",
        "        self.rnn_to_logits = nn.Linear(rnn_num_units, num_tokens)\n",
        "\n",
        "    def forward(self, x, h_prev):\n",
        "        \"\"\"\n",
        "        This method computes h_next(x, h_prev) and log P(x_next | h_next)\n",
        "        We'll call it repeatedly to produce the whole sequence.\n",
        "\n",
        "        :param x: batch of character ids, containing vector of int64\n",
        "        :param h_prev: previous rnn hidden states, containing matrix [batch, rnn_num_units] of float32\n",
        "        \"\"\"\n",
        "        # get vector embedding of x\n",
        "        # batch, seq leng, emb dim\n",
        "        x_emb = self.embedding(x)\n",
        "\n",
        "        # compute next hidden state using self.rnn_update\n",
        "        x_and_h = torch.cat([h_prev, x_emb], dim=-1) # YOUR CODE HERE\n",
        "        h_next = self.rnn_update(x_and_h) # YOUR CODE HERE\n",
        "\n",
        "        h_next = torch.tanh(h_next) # YOUR CODE HERE\n",
        "\n",
        "        assert h_next.size() == h_prev.size()\n",
        "\n",
        "        #compute logits for next character probs\n",
        "        logits = self.rnn_to_logits(h_next) # YOUR CODE\n",
        "\n",
        "        return h_next, logits\n",
        "\n",
        "    def initial_state(self, batch_size):\n",
        "        \"\"\" return rnn state before it processes first input (aka h0) \"\"\"\n",
        "        return torch.zeros(batch_size, self.num_units, requires_grad=True)"
      ]
    },
    {
      "cell_type": "code",
      "execution_count": null,
      "metadata": {
        "id": "3MxkZdjUrxKS"
      },
      "outputs": [],
      "source": [
        "char_rnn = CharRNNCell()\n",
        "criterion = nn.NLLLoss()"
      ]
    },
    {
      "cell_type": "markdown",
      "metadata": {
        "id": "xUe_DtU0rxKS"
      },
      "source": [
        "Теперь реализуем функцию для обработки каждого следующего элемента последовательности:"
      ]
    },
    {
      "cell_type": "code",
      "execution_count": null,
      "metadata": {
        "id": "pFYTpL4srxKS"
      },
      "outputs": [],
      "source": [
        "def rnn_loop(char_rnn, batch_ix):\n",
        "    \"\"\"\n",
        "    Computes log P(next_character) for all time-steps in names_ix\n",
        "    :param names_ix: an int32 matrix of shape [batch, time], output of to_matrix(names)\n",
        "    \"\"\"\n",
        "    batch_size, max_length = batch_ix.size()\n",
        "    hid_state = char_rnn.initial_state(batch_size)\n",
        "    logprobs = []\n",
        "\n",
        "    for x_t in batch_ix.transpose(0,1):\n",
        "        hid_state, logits = char_rnn(x_t, hid_state)  # <-- here we call your one-step code\n",
        "        logprobs.append(F.log_softmax(logits, -1))\n",
        "\n",
        "    return torch.stack(logprobs, dim=1)"
      ]
    },
    {
      "cell_type": "markdown",
      "metadata": {
        "id": "YPJMRIuLrxKS"
      },
      "source": [
        "Наконец, проверим, что все работает:"
      ]
    },
    {
      "cell_type": "code",
      "source": [
        "torch.tensor(to_matrix(names[:5]))"
      ],
      "metadata": {
        "colab": {
          "base_uri": "https://localhost:8080/"
        },
        "id": "K_CoFI_aysGN",
        "outputId": "fc33c2da-fa6d-4512-99f2-07636615ac40"
      },
      "execution_count": null,
      "outputs": [
        {
          "output_type": "execute_result",
          "data": {
            "text/plain": [
              "tensor([[41, 32, 50, 21, 16, 21, 53, 28],\n",
              "        [41, 32, 50, 21, 16, 21, 19, 28],\n",
              "        [41, 32, 50, 50, 53, 41, 41, 41],\n",
              "        [41, 32, 50, 50, 53, 10, 41, 41],\n",
              "        [41, 32, 50, 50, 19, 41, 41, 41]], dtype=torch.int32)"
            ]
          },
          "metadata": {},
          "execution_count": 82
        }
      ]
    },
    {
      "cell_type": "code",
      "execution_count": null,
      "metadata": {
        "id": "qb8yAivZrxKS"
      },
      "outputs": [],
      "source": [
        "batch_ix = to_matrix(names[:5])\n",
        "batch_ix = torch.tensor(batch_ix, dtype=torch.int64)\n",
        "\n",
        "logp_seq = rnn_loop(char_rnn, batch_ix)\n",
        "\n",
        "assert torch.max(logp_seq).data.numpy() <= 0\n",
        "assert tuple(logp_seq.size()) ==  batch_ix.shape + (num_tokens,)"
      ]
    },
    {
      "cell_type": "markdown",
      "metadata": {
        "id": "nl0hoA8UrxKS"
      },
      "source": [
        "#### Обучение языковой модели\n",
        "\n",
        "Т.к. задача предсказания следующего токена – это задача классификации, в качестве функции потерь будет выступать уже знакомая нам кросс-энтропия.\n",
        "\n",
        "В качестве \"истинных значений\" мы будем использовать `batch_ix[:, 1:]` - матрицу из индексов токенов, сдвинутых на один шаг вперед."
      ]
    },
    {
      "cell_type": "code",
      "execution_count": null,
      "metadata": {
        "id": "ZBx3Tk2srxKS"
      },
      "outputs": [],
      "source": [
        "predictions_logp = logp_seq[:, :-1]\n",
        "actual_next_tokens = batch_ix[:, 1:]\n",
        "\n",
        "loss = criterion(\n",
        "    predictions_logp.contiguous().view(-1, num_tokens),\n",
        "    actual_next_tokens.contiguous().view(-1)\n",
        ")\n",
        "\n",
        "loss.backward()"
      ]
    },
    {
      "cell_type": "markdown",
      "metadata": {
        "id": "ofrF4S8-rxKT"
      },
      "source": [
        "Финальная проверка:"
      ]
    },
    {
      "cell_type": "code",
      "execution_count": null,
      "metadata": {
        "id": "rzaa0pFyrxKT"
      },
      "outputs": [],
      "source": [
        "for w in char_rnn.parameters():\n",
        "    assert w.grad is not None and torch.max(torch.abs(w.grad)).data.numpy() != 0, \\\n",
        "        \"Loss is not differentiable w.r.t. a weight with shape %s. Check forward method.\" % (w.size(),)"
      ]
    },
    {
      "cell_type": "markdown",
      "metadata": {
        "id": "4KwOL_zgrxKT"
      },
      "source": [
        "#### Обучение модели\n",
        "\n",
        "Сама процедура обучения практически не отличается от предыдущих. Единственное различие заключается в том, что в этот раз мы семплируем строки переменной длины, а затем приводим их к единой длине внутри одного батча."
      ]
    },
    {
      "cell_type": "code",
      "execution_count": null,
      "metadata": {
        "id": "CeJ9xZIxrxKT"
      },
      "outputs": [],
      "source": [
        "char_rnn = CharRNNCell()\n",
        "opt = torch.optim.Adam(char_rnn.parameters())\n",
        "history = []"
      ]
    },
    {
      "cell_type": "code",
      "execution_count": null,
      "metadata": {
        "id": "wplnv59zrxKT",
        "outputId": "57ac450f-76dd-4901-c6b6-9cd70ac50277",
        "colab": {
          "base_uri": "https://localhost:8080/",
          "height": 264
        }
      },
      "outputs": [
        {
          "output_type": "display_data",
          "data": {
            "text/plain": [
              "<Figure size 432x288 with 1 Axes>"
            ],
            "image/png": "[encoded data removed]"
          },
          "metadata": {
            "needs_background": "light"
          }
        }
      ],
      "source": [
        "MAX_LENGTH = 16\n",
        "\n",
        "for i in range(1000):\n",
        "    opt.zero_grad()\n",
        "\n",
        "    batch_ix = to_matrix(sample(names, 32), max_len=MAX_LENGTH)\n",
        "    batch_ix = torch.tensor(batch_ix, dtype=torch.int64)\n",
        "\n",
        "    logp_seq = rnn_loop(char_rnn, batch_ix)\n",
        "\n",
        "    # compute loss\n",
        "    predictions_logp = logp_seq[:, :-1]\n",
        "    actual_next_tokens = batch_ix[:, 1:]\n",
        "\n",
        "    loss = criterion(\n",
        "        predictions_logp.contiguous().view(-1, num_tokens),\n",
        "        actual_next_tokens.contiguous().view(-1)\n",
        "    )\n",
        "\n",
        "    # train with backprop\n",
        "    loss.backward()\n",
        "    opt.step()\n",
        "\n",
        "\n",
        "    history.append(loss.item())\n",
        "    if (i+1)%100==0:\n",
        "        clear_output(True)\n",
        "        plt.plot(history,label='loss')\n",
        "        plt.legend()\n",
        "        plt.show()\n",
        "\n",
        "assert np.mean(history[:10]) > np.mean(history[-10:]), \"RNN didn't converge.\""
      ]
    },
    {
      "cell_type": "markdown",
      "metadata": {
        "id": "VQPt2APtrxKT"
      },
      "source": [
        "#### Генерация имен\n",
        "После обучения языковой модели (а обученная нейросеть является языковой моделью) перейдем к генерации данных.\n",
        "Для этого воспользуемся функцией ниже:"
      ]
    },
    {
      "cell_type": "code",
      "execution_count": null,
      "metadata": {
        "id": "208enYKHrxKT"
      },
      "outputs": [],
      "source": [
        "def generate_sample(char_rnn, seed_phrase=' ', max_length=MAX_LENGTH, temperature=1.0):\n",
        "    '''\n",
        "    The function generates text given a phrase of length at least SEQ_LENGTH.\n",
        "    :param seed_phrase: prefix characters. The RNN is asked to continue the phrase\n",
        "    :param max_length: maximum output length, including seed_phrase\n",
        "    :param temperature: coefficient for sampling.  higher temperature produces more chaotic outputs,\n",
        "                        smaller temperature converges to the single most likely output\n",
        "    '''\n",
        "\n",
        "    x_sequence = [token_to_id[token] for token in seed_phrase]\n",
        "    x_sequence = torch.tensor([x_sequence], dtype=torch.int64)\n",
        "    hid_state = char_rnn.initial_state(batch_size=1)\n",
        "\n",
        "    #feed the seed phrase, if any\n",
        "    for i in range(len(seed_phrase) - 1):\n",
        "        hid_state, _ = char_rnn(x_sequence[:, i], hid_state)\n",
        "\n",
        "    #start generating\n",
        "    for _ in range(max_length - len(seed_phrase)):\n",
        "        hid_state, logits = char_rnn(x_sequence[:, -1], hid_state)\n",
        "        p_next = F.softmax(logits / temperature, dim=-1).data.numpy()[0]\n",
        "\n",
        "        # sample next token and push it back into x_sequence\n",
        "        next_ix = np.random.choice(num_tokens,p=p_next)\n",
        "        next_ix = torch.tensor([[next_ix]], dtype=torch.int64)\n",
        "        x_sequence = torch.cat([x_sequence, next_ix], dim=1)\n",
        "\n",
        "    return ''.join([tokens[ix] for ix in x_sequence.data.numpy()[0]])"
      ]
    },
    {
      "cell_type": "markdown",
      "metadata": {
        "id": "6XHmjvXjrxKT"
      },
      "source": [
        "Рассмотрим несколько случайных примеров:"
      ]
    },
    {
      "cell_type": "code",
      "execution_count": null,
      "metadata": {
        "id": "yHsef5-1rxKT",
        "outputId": "abd30dd9-4d63-4e5e-d851-b7d630fb0e22",
        "colab": {
          "base_uri": "https://localhost:8080/"
        }
      },
      "outputs": [
        {
          "output_type": "stream",
          "name": "stdout",
          "text": [
            " Aima           \n",
            " Arelina        \n",
            " Gumdrrion      \n",
            " Karvolen       \n",
            " Gienn          \n",
            " Cherls         \n",
            " Clasie         \n",
            " Yilasty        \n",
            " Vastor         \n",
            "  Tertta        \n"
          ]
        }
      ],
      "source": [
        "for _ in range(10):\n",
        "    print(generate_sample(char_rnn, temperature=1.))"
      ]
    },
    {
      "cell_type": "markdown",
      "metadata": {
        "id": "x90D29bkrxKU"
      },
      "source": [
        "Также мы можем задать некоторую подстроку в для инициализации начального состояния нашей модели."
      ]
    },
    {
      "cell_type": "code",
      "execution_count": null,
      "metadata": {
        "scrolled": true,
        "id": "ae_P9bn6rxKU",
        "outputId": "26f77bf8-21b0-4590-9735-448356eab310",
        "colab": {
          "base_uri": "https://localhost:8080/"
        }
      },
      "outputs": [
        {
          "output_type": "stream",
          "name": "stdout",
          "text": [
            " Sergis         \n",
            " Sergyem        \n",
            " Sergha         \n",
            " Serge          \n",
            " Serghin        \n",
            " Serg           \n",
            " Sergeilin      \n",
            " Serge          \n",
            " Sergie         \n",
            " Sergella       \n",
            " Sergtat        \n",
            " Sergaen        \n",
            " Sergi          \n",
            " Sergiis        \n",
            " Sergeete       \n",
            " Sergiei        \n",
            " Sergia         \n",
            " Sergeria       \n",
            " Serghey        \n",
            " Serghae        \n",
            " Sergefe        \n",
            " Sergie         \n",
            " Sergoen        \n",
            " Sergery        \n",
            " Serga          \n",
            " Sergoelret     \n",
            " Sergue         \n",
            " Sergoth        \n",
            " Sergay         \n",
            " Serg           \n",
            " Sergees        \n",
            " Serghept       \n",
            " Sergon         \n",
            " Serghy         \n",
            " Sergitha       \n",
            " Serge          \n",
            " Serga          \n",
            " Sergen         \n",
            " Sergie         \n",
            " Sergarate      \n",
            " Sergenhe       \n",
            " Serge          \n",
            " Sergaadi       \n",
            " Sergalle       \n",
            " Serge          \n",
            " Sergty         \n",
            " Sergio         \n",
            " Sergar         \n",
            " Serga          \n",
            " Sergkelvian    \n"
          ]
        }
      ],
      "source": [
        "for _ in range(50):\n",
        "    print(generate_sample(char_rnn, seed_phrase=' Serg', temperature=1.))"
      ]
    },
    {
      "cell_type": "markdown",
      "metadata": {
        "collapsed": true,
        "id": "gpo0Qv4hrxKU"
      },
      "source": [
        "#### Использование готовых модулей\n",
        "\n",
        "Только что мы реализовали RNN самостоятельно, что полезно, но требует некоторого времени. Конечно, на практике обычно используются уже готовые реализации.\n",
        "\n",
        "В `torch` доступны два варианта классической RNN:\n",
        "* `nn.RNNCell(emb_size, rnn_num_units)`, которая реализует один шаг RNN. Аналог того класса, что мы реализовали выше.\n",
        "* `nn.RNN(emb_size, rnn_num_units)`, которая самостоятельно обрабатывает всю последовательность (аналог `nn.RNNCell` + `rnn_loop`).\n",
        "\n",
        "\n",
        "Также существуют `nn.LSTMCell` и `nn.LSTM`, `nn.GRUCell` и `nn.GRU`.\n",
        "\n",
        "Воспользуемся высокоуровневым API для получения аналогичных результатов:"
      ]
    },
    {
      "cell_type": "code",
      "execution_count": null,
      "metadata": {
        "id": "B58Ek6XlrxKU"
      },
      "outputs": [],
      "source": [
        "class CharRNNLoop(nn.Module):\n",
        "    def __init__(self, num_tokens=num_tokens, emb_size=16, rnn_num_units=64):\n",
        "        super(self.__class__, self).__init__()\n",
        "        self.emb = nn.Embedding(num_tokens, emb_size)\n",
        "        self.rnn = nn.RNN(emb_size, rnn_num_units, batch_first=True)\n",
        "        self.hid_to_logits = nn.Linear(rnn_num_units, num_tokens)\n",
        "\n",
        "    def forward(self, x):\n",
        "        assert isinstance(x.data, torch.LongTensor)\n",
        "        h_seq, _ = self.rnn(self.emb(x))\n",
        "        next_logits = self.hid_to_logits(h_seq)\n",
        "        next_logp = F.log_softmax(next_logits, dim=-1)\n",
        "        return next_logp\n",
        "\n",
        "model = CharRNNLoop()\n",
        "opt = torch.optim.Adam(model.parameters())\n",
        "history = []"
      ]
    },
    {
      "cell_type": "code",
      "execution_count": null,
      "metadata": {
        "id": "PsLzZiM-rxKU"
      },
      "outputs": [],
      "source": [
        "# the model applies over the whole sequence\n",
        "batch_ix = to_matrix(sample(names, 32), max_len=MAX_LENGTH)\n",
        "batch_ix = torch.LongTensor(batch_ix)\n",
        "\n",
        "logp_seq = model(batch_ix)\n",
        "\n",
        "loss = F.nll_loss(logp_seq[:, 1:].contiguous().view(-1, num_tokens),\n",
        "                  batch_ix[:, :-1].contiguous().view(-1))\n",
        "\n",
        "loss.backward()"
      ]
    },
    {
      "cell_type": "code",
      "execution_count": null,
      "metadata": {
        "id": "idpJY31orxKU",
        "outputId": "774f933b-2397-40b5-e748-10249da7da52",
        "colab": {
          "base_uri": "https://localhost:8080/",
          "height": 265
        }
      },
      "outputs": [
        {
          "output_type": "display_data",
          "data": {
            "text/plain": [
              "<Figure size 432x288 with 1 Axes>"
            ],
            "image/png": "[encoded data removed]"
          },
          "metadata": {
            "needs_background": "light"
          }
        }
      ],
      "source": [
        "MAX_LENGTH = 16\n",
        "\n",
        "for i in range(1000):\n",
        "    batch_ix = to_matrix(sample(names, 32), max_len=MAX_LENGTH)\n",
        "    batch_ix = torch.tensor(batch_ix, dtype=torch.int64)\n",
        "\n",
        "    logp_seq = model(batch_ix)\n",
        "\n",
        "    predictions_logp = logp_seq[:, :-1]\n",
        "    actual_next_tokens = batch_ix[:, 1:]\n",
        "\n",
        "    loss = criterion(\n",
        "        predictions_logp.contiguous().view(-1, num_tokens),\n",
        "        actual_next_tokens.contiguous().view(-1)\n",
        "    )\n",
        "\n",
        "    # train with backprop\n",
        "    loss.backward()\n",
        "    opt.step()\n",
        "    opt.zero_grad()\n",
        "\n",
        "    history.append(loss.data.numpy())\n",
        "    if (i+1)%100==0:\n",
        "        clear_output(True)\n",
        "        plt.plot(history,label='loss')\n",
        "        plt.legend()\n",
        "        plt.show()\n",
        "\n",
        "assert np.mean(history[:10]) > np.mean(history[-10:]), \"RNN didn't converge.\""
      ]
    },
    {
      "cell_type": "markdown",
      "metadata": {
        "id": "MH0CstKvrxKU"
      },
      "source": [
        "#### Выводы:\n",
        "* Рекуррентные нейронные сети позволяют работать с последовательностями переменной длины, обрабатывая по одному элементу за шаг.\n",
        "* Задача языкового моделирования может рассматриваться как задача классификации, т.к. множество токенов конечно.\n",
        "* Даже сложные модели могут быть реализованы с нуля. Но многие модули уже доступны в самом фреймворке."
      ]
    }
  ],
  "metadata": {
    "kernelspec": {
      "display_name": "Python 3",
      "language": "python",
      "name": "python3"
    },
    "language_info": {
      "codemirror_mode": {
        "name": "ipython",
        "version": 3
      },
      "file_extension": ".py",
      "mimetype": "text/x-python",
      "name": "python",
      "nbconvert_exporter": "python",
      "pygments_lexer": "ipython3",
      "version": "3.8.7"
    },
    "toc": {
      "base_numbering": 1,
      "nav_menu": {},
      "number_sections": true,
      "sideBar": true,
      "skip_h1_title": false,
      "title_cell": "Table of Contents",
      "title_sidebar": "Contents",
      "toc_cell": false,
      "toc_position": {},
      "toc_section_display": true,
      "toc_window_display": true
    },
    "colab": {
      "provenance": []
    }
  },
  "nbformat": 4,
  "nbformat_minor": 0
}